{
 "cells": [
  {
   "cell_type": "markdown",
   "id": "be36e335",
   "metadata": {},
   "source": [
    "# Processing and Writing Radiant ML Data to CSV\n",
    "\n",
    "## Setup\n",
    "\n",
    "Create the libraries + import config"
   ]
  },
  {
   "cell_type": "code",
   "execution_count": 3,
   "id": "28ea6e7d",
   "metadata": {},
   "outputs": [],
   "source": [
    "import pandas as pd\n",
    "import matplotlib.pyplot as plt\n",
    "\n",
    "import sys\n",
    "sys.path.append('..')\n",
    "\n",
    "from utils.file_ops import *\n",
    "from utils.data_prep import *\n",
    "from utils.data_prep_geospatial import *\n",
    "\n",
    "# get config\n",
    "CONFIG = read_yaml('../../conf.yaml')"
   ]
  },
  {
   "cell_type": "markdown",
   "id": "835834a1",
   "metadata": {},
   "source": [
    "Setting up vars from config"
   ]
  },
  {
   "cell_type": "code",
   "execution_count": 4,
   "id": "f7ed2188",
   "metadata": {},
   "outputs": [],
   "source": [
    "data_dir = '../../data/'\n",
    "\n",
    "Full_bands = CONFIG['BANDS']\n",
    "collection_id = CONFIG['COLLECTION_ID']\n",
    "assets = CONFIG['ASSETS']\n",
    "processed_collection_id = CONFIG['PROCESSED_COLLECTION_ID']\n",
    "\n",
    "crops = [c['id'] for c in CONFIG['CROPS']]\n",
    "crops_names = [c['name'] for c in CONFIG['CROPS']]\n",
    "\n",
    "selected_bands = [b['id'] for b in CONFIG['BANDS']]\n",
    "source_collection = f'{collection_id}_source'\n",
    "train_label_collection = f'{collection_id}_labels_train'\n",
    "test_label_collection = f'{collection_id}_labels_test'\n",
    "\n",
    "src_tile_size = (CONFIG['SRC_TILE_WIDTH'], CONFIG['SRC_TILE_HEIGHT'])"
   ]
  },
  {
   "cell_type": "markdown",
   "id": "4817abdb",
   "metadata": {},
   "source": [
    "## Per-Field Image Tiles\n",
    "\n",
    "We know from the codebook, that fields data may be spread between multiple tiles. Here, we will merge tiles where necessary, process the results, and recreate masked and scaled images for each field.\n",
    "\n",
    "### Creating Merged tiles\n",
    "\n",
    "We can confirm the presence of fields that cross over multiple tiles using the following code."
   ]
  },
  {
   "cell_type": "code",
   "execution_count": 5,
   "id": "5e00bc22",
   "metadata": {},
   "outputs": [],
   "source": [
    "train_data = pd.read_csv(f'{data_dir}/pixel_data_TRAIN.csv', index_col=[0])\n"
   ]
  },
  {
   "cell_type": "code",
   "execution_count": 27,
   "id": "cfe4bc99",
   "metadata": {},
   "outputs": [
    {
     "data": {
      "text/html": [
       "<div>\n",
       "<style scoped>\n",
       "    .dataframe tbody tr th:only-of-type {\n",
       "        vertical-align: middle;\n",
       "    }\n",
       "\n",
       "    .dataframe tbody tr th {\n",
       "        vertical-align: top;\n",
       "    }\n",
       "\n",
       "    .dataframe thead th {\n",
       "        text-align: right;\n",
       "    }\n",
       "</style>\n",
       "<table border=\"1\" class=\"dataframe\">\n",
       "  <thead>\n",
       "    <tr style=\"text-align: right;\">\n",
       "      <th></th>\n",
       "      <th>tiles</th>\n",
       "      <th>fields</th>\n",
       "    </tr>\n",
       "  </thead>\n",
       "  <tbody>\n",
       "    <tr>\n",
       "      <th>0</th>\n",
       "      <td>1</td>\n",
       "      <td>5285</td>\n",
       "    </tr>\n",
       "    <tr>\n",
       "      <th>1</th>\n",
       "      <td>2</td>\n",
       "      <td>264</td>\n",
       "    </tr>\n",
       "    <tr>\n",
       "      <th>2</th>\n",
       "      <td>3</td>\n",
       "      <td>1</td>\n",
       "    </tr>\n",
       "    <tr>\n",
       "      <th>3</th>\n",
       "      <td>4</td>\n",
       "      <td>1</td>\n",
       "    </tr>\n",
       "  </tbody>\n",
       "</table>\n",
       "</div>"
      ],
      "text/plain": [
       "   tiles  fields\n",
       "0      1    5285\n",
       "1      2     264\n",
       "2      3       1\n",
       "3      4       1"
      ]
     },
     "execution_count": 27,
     "metadata": {},
     "output_type": "execute_result"
    }
   ],
   "source": [
    "tmp_train_df = (\n",
    "    train_data.drop_duplicates(\n",
    "        subset = ['field_id', 'folder_id'],\n",
    "        keep = 'last'\n",
    "    )\n",
    "    .groupby(by=['field_id'])\n",
    "    .size()\n",
    "    .value_counts()\n",
    "    .rename_axis('tiles')\n",
    "    .reset_index(name=\"fields\")\n",
    ")\n",
    "\n",
    "tmp_train_df"
   ]
  },
  {
   "cell_type": "markdown",
   "id": "526a9984",
   "metadata": {},
   "source": [
    "Looking at the above, we see the majority of fields contain data that is restricted to one tile. However, 266 fields are spread between 2-4 tiles. To handle this, we will crop and rescale our satellite images such that we end up with one contiguous image per band for each field.\n",
    "\n",
    "Our first step is to merge relevant tiles and create a merge map in the process."
   ]
  },
  {
   "cell_type": "code",
   "execution_count": null,
   "id": "8ad0a5c9",
   "metadata": {},
   "outputs": [],
   "source": [
    "\n",
    "merge_map = get_df_from_csv_if_exists(\n",
    "    f'{data_dir}interstitial_data/merge_map.csv',\n",
    "    lambda: create_merged_tiles(\n",
    "        train_data,\n",
    "        collection_id, \n",
    "        processed_collection_id, \n",
    "        train_label_collection, \n",
    "        source_collection, \n",
    "        selected_bands,\n",
    "        'merged_TRAIN_v2'\n",
    "    )\n",
    ")\n",
    "\n",
    "write_csv_from_df(merge_map, f'{data_dir}interstitial_data/merge_map')\n",
    "\n",
    "print(merge_map.shape)\n",
    "print(merge_map.head())"
   ]
  },
  {
   "cell_type": "markdown",
   "id": "eaa3735f",
   "metadata": {},
   "source": [
    "### Creating Masked and Scaled Images\n",
    "\n",
    "Now, we will extract valid row/col positional data for each pixel using the newly joined merge files. \n"
   ]
  },
  {
   "cell_type": "code",
   "execution_count": 13,
   "id": "e5fb8853",
   "metadata": {},
   "outputs": [
    {
     "name": "stdout",
     "output_type": "stream",
     "text": [
      "the file interstitial_data/valid_row_col_vals_TRAIN_v2.csv already exists.\n",
      "(188228, 5)\n"
     ]
    },
    {
     "data": {
      "text/html": [
       "<div>\n",
       "<style scoped>\n",
       "    .dataframe tbody tr th:only-of-type {\n",
       "        vertical-align: middle;\n",
       "    }\n",
       "\n",
       "    .dataframe tbody tr th {\n",
       "        vertical-align: top;\n",
       "    }\n",
       "\n",
       "    .dataframe thead th {\n",
       "        text-align: right;\n",
       "    }\n",
       "</style>\n",
       "<table border=\"1\" class=\"dataframe\">\n",
       "  <thead>\n",
       "    <tr style=\"text-align: right;\">\n",
       "      <th></th>\n",
       "      <th>field_id</th>\n",
       "      <th>lon</th>\n",
       "      <th>lat</th>\n",
       "      <th>row</th>\n",
       "      <th>col</th>\n",
       "    </tr>\n",
       "  </thead>\n",
       "  <tbody>\n",
       "    <tr>\n",
       "      <th>11031</th>\n",
       "      <td>757</td>\n",
       "      <td>628235.0</td>\n",
       "      <td>3025485.0</td>\n",
       "      <td>43</td>\n",
       "      <td>23</td>\n",
       "    </tr>\n",
       "    <tr>\n",
       "      <th>11287</th>\n",
       "      <td>757</td>\n",
       "      <td>628235.0</td>\n",
       "      <td>3025475.0</td>\n",
       "      <td>44</td>\n",
       "      <td>23</td>\n",
       "    </tr>\n",
       "    <tr>\n",
       "      <th>11288</th>\n",
       "      <td>757</td>\n",
       "      <td>628245.0</td>\n",
       "      <td>3025475.0</td>\n",
       "      <td>44</td>\n",
       "      <td>24</td>\n",
       "    </tr>\n",
       "    <tr>\n",
       "      <th>11289</th>\n",
       "      <td>757</td>\n",
       "      <td>628255.0</td>\n",
       "      <td>3025475.0</td>\n",
       "      <td>44</td>\n",
       "      <td>25</td>\n",
       "    </tr>\n",
       "    <tr>\n",
       "      <th>11543</th>\n",
       "      <td>757</td>\n",
       "      <td>628235.0</td>\n",
       "      <td>3025465.0</td>\n",
       "      <td>45</td>\n",
       "      <td>23</td>\n",
       "    </tr>\n",
       "  </tbody>\n",
       "</table>\n",
       "</div>"
      ],
      "text/plain": [
       "       field_id       lon        lat  row  col\n",
       "11031       757  628235.0  3025485.0   43   23\n",
       "11287       757  628235.0  3025475.0   44   23\n",
       "11288       757  628245.0  3025475.0   44   24\n",
       "11289       757  628255.0  3025475.0   44   25\n",
       "11543       757  628235.0  3025465.0   45   23"
      ]
     },
     "execution_count": 13,
     "metadata": {},
     "output_type": "execute_result"
    }
   ],
   "source": [
    "row_col_data = get_df_from_csv_if_exists(\n",
    "    f'{data_dir}interstitial_data/valid_row_col_vals_TRAIN_v2.csv',\n",
    "    lambda: rol_col_extractor(\n",
    "        merge_map, \n",
    "        'merged_TRAIN_v2', \n",
    "        processed_collection_id, \n",
    "        ['field_ids']\n",
    "    )\n",
    ")\n",
    "\n",
    "write_csv_from_df(row_col_data, f'{data_dir}interstitial_data/valid_row_col_vals_TRAIN_v2')\n",
    "\n",
    "print(row_col_data.shape)\n",
    "row_col_data.head()\n"
   ]
  },
  {
   "cell_type": "markdown",
   "id": "d448a151",
   "metadata": {},
   "source": [
    "Now we will merge this data with our `train_data` using the 'lon' and 'lat' columns. \n",
    "\n",
    "*Note: In theory we could use GDAL to do this automatically, which would greatly simplify this process. However, due to projection issues, we are using x/y coordinates to achieve this*"
   ]
  },
  {
   "cell_type": "code",
   "execution_count": 19,
   "id": "093e38f2",
   "metadata": {},
   "outputs": [
    {
     "name": "stdout",
     "output_type": "stream",
     "text": [
      "the file interstitial_data/pixel_data_valid_row_col_vals_TRAIN.csv already exists.\n",
      "(188228, 19)\n"
     ]
    },
    {
     "data": {
      "text/html": [
       "<div>\n",
       "<style scoped>\n",
       "    .dataframe tbody tr th:only-of-type {\n",
       "        vertical-align: middle;\n",
       "    }\n",
       "\n",
       "    .dataframe tbody tr th {\n",
       "        vertical-align: top;\n",
       "    }\n",
       "\n",
       "    .dataframe thead th {\n",
       "        text-align: right;\n",
       "    }\n",
       "</style>\n",
       "<table border=\"1\" class=\"dataframe\">\n",
       "  <thead>\n",
       "    <tr style=\"text-align: right;\">\n",
       "      <th></th>\n",
       "      <th>Unnamed: 0</th>\n",
       "      <th>B01</th>\n",
       "      <th>B02</th>\n",
       "      <th>B03</th>\n",
       "      <th>B04</th>\n",
       "      <th>B05</th>\n",
       "      <th>B06</th>\n",
       "      <th>B07</th>\n",
       "      <th>B08</th>\n",
       "      <th>B8A</th>\n",
       "      <th>B09</th>\n",
       "      <th>B11</th>\n",
       "      <th>B12</th>\n",
       "      <th>field_id</th>\n",
       "      <th>folder_id</th>\n",
       "      <th>lon</th>\n",
       "      <th>lat</th>\n",
       "      <th>row</th>\n",
       "      <th>col</th>\n",
       "    </tr>\n",
       "  </thead>\n",
       "  <tbody>\n",
       "    <tr>\n",
       "      <th>0</th>\n",
       "      <td>11031</td>\n",
       "      <td>43</td>\n",
       "      <td>39</td>\n",
       "      <td>38</td>\n",
       "      <td>38</td>\n",
       "      <td>41</td>\n",
       "      <td>54</td>\n",
       "      <td>63</td>\n",
       "      <td>61</td>\n",
       "      <td>64</td>\n",
       "      <td>12</td>\n",
       "      <td>57</td>\n",
       "      <td>37</td>\n",
       "      <td>757</td>\n",
       "      <td>28852</td>\n",
       "      <td>628235.0</td>\n",
       "      <td>3025485.0</td>\n",
       "      <td>43</td>\n",
       "      <td>23</td>\n",
       "    </tr>\n",
       "    <tr>\n",
       "      <th>1</th>\n",
       "      <td>11287</td>\n",
       "      <td>43</td>\n",
       "      <td>39</td>\n",
       "      <td>38</td>\n",
       "      <td>38</td>\n",
       "      <td>42</td>\n",
       "      <td>57</td>\n",
       "      <td>67</td>\n",
       "      <td>63</td>\n",
       "      <td>72</td>\n",
       "      <td>12</td>\n",
       "      <td>63</td>\n",
       "      <td>42</td>\n",
       "      <td>757</td>\n",
       "      <td>28852</td>\n",
       "      <td>628235.0</td>\n",
       "      <td>3025475.0</td>\n",
       "      <td>44</td>\n",
       "      <td>23</td>\n",
       "    </tr>\n",
       "    <tr>\n",
       "      <th>2</th>\n",
       "      <td>11288</td>\n",
       "      <td>43</td>\n",
       "      <td>39</td>\n",
       "      <td>38</td>\n",
       "      <td>37</td>\n",
       "      <td>41</td>\n",
       "      <td>59</td>\n",
       "      <td>69</td>\n",
       "      <td>65</td>\n",
       "      <td>78</td>\n",
       "      <td>12</td>\n",
       "      <td>68</td>\n",
       "      <td>43</td>\n",
       "      <td>757</td>\n",
       "      <td>28852</td>\n",
       "      <td>628245.0</td>\n",
       "      <td>3025475.0</td>\n",
       "      <td>44</td>\n",
       "      <td>24</td>\n",
       "    </tr>\n",
       "    <tr>\n",
       "      <th>3</th>\n",
       "      <td>11289</td>\n",
       "      <td>43</td>\n",
       "      <td>38</td>\n",
       "      <td>37</td>\n",
       "      <td>36</td>\n",
       "      <td>41</td>\n",
       "      <td>59</td>\n",
       "      <td>69</td>\n",
       "      <td>64</td>\n",
       "      <td>78</td>\n",
       "      <td>12</td>\n",
       "      <td>68</td>\n",
       "      <td>43</td>\n",
       "      <td>757</td>\n",
       "      <td>28852</td>\n",
       "      <td>628255.0</td>\n",
       "      <td>3025475.0</td>\n",
       "      <td>44</td>\n",
       "      <td>25</td>\n",
       "    </tr>\n",
       "    <tr>\n",
       "      <th>4</th>\n",
       "      <td>11543</td>\n",
       "      <td>43</td>\n",
       "      <td>39</td>\n",
       "      <td>38</td>\n",
       "      <td>38</td>\n",
       "      <td>42</td>\n",
       "      <td>57</td>\n",
       "      <td>67</td>\n",
       "      <td>64</td>\n",
       "      <td>72</td>\n",
       "      <td>12</td>\n",
       "      <td>63</td>\n",
       "      <td>42</td>\n",
       "      <td>757</td>\n",
       "      <td>28852</td>\n",
       "      <td>628235.0</td>\n",
       "      <td>3025465.0</td>\n",
       "      <td>45</td>\n",
       "      <td>23</td>\n",
       "    </tr>\n",
       "  </tbody>\n",
       "</table>\n",
       "</div>"
      ],
      "text/plain": [
       "   Unnamed: 0  B01  B02  B03  B04  B05  B06  B07  B08  B8A  B09  B11  B12  \\\n",
       "0       11031   43   39   38   38   41   54   63   61   64   12   57   37   \n",
       "1       11287   43   39   38   38   42   57   67   63   72   12   63   42   \n",
       "2       11288   43   39   38   37   41   59   69   65   78   12   68   43   \n",
       "3       11289   43   38   37   36   41   59   69   64   78   12   68   43   \n",
       "4       11543   43   39   38   38   42   57   67   64   72   12   63   42   \n",
       "\n",
       "   field_id folder_id       lon        lat  row  col  \n",
       "0       757     28852  628235.0  3025485.0   43   23  \n",
       "1       757     28852  628235.0  3025475.0   44   23  \n",
       "2       757     28852  628245.0  3025475.0   44   24  \n",
       "3       757     28852  628255.0  3025475.0   44   25  \n",
       "4       757     28852  628235.0  3025465.0   45   23  "
      ]
     },
     "execution_count": 19,
     "metadata": {},
     "output_type": "execute_result"
    }
   ],
   "source": [
    "# merge em\n",
    "merged_train_data = get_df_from_csv_if_exists(\n",
    "    f'{data_dir}interstitial_data/pixel_data_valid_row_col_vals_TRAIN.csv',\n",
    "    lambda: pixel_data_row_col_merger(\n",
    "        train_data, \n",
    "        row_col_data\n",
    "    )\n",
    ")\n",
    "\n",
    "write_csv_from_df(merged_train_data, f'{data_dir}interstitial_data/pixel_data_valid_row_col_vals_TRAIN')\n",
    "\n",
    "print(merged_train_data.shape)\n",
    "merged_train_data.head()"
   ]
  },
  {
   "cell_type": "markdown",
   "id": "fd0a0b81",
   "metadata": {},
   "source": [
    "Great! We now have a fully merged data set with pixel values for each field + valid positional data. Next, we will create our masked and scaled image files for each field."
   ]
  },
  {
   "cell_type": "code",
   "execution_count": 15,
   "id": "85e4c18d",
   "metadata": {},
   "outputs": [
    {
     "name": "stderr",
     "output_type": "stream",
     "text": [
      "100%|██████████| 1289/1289 [00:11<00:00, 111.71it/s]\n"
     ]
    }
   ],
   "source": [
    "create_masked_and_scaled_field_files(\n",
    "    merged_train_data, \n",
    "    merge_map, \n",
    "    processed_collection_id, \n",
    "    selected_bands, \n",
    "    1 # padding\n",
    ")"
   ]
  },
  {
   "cell_type": "markdown",
   "id": "39e2f0f3",
   "metadata": {},
   "source": [
    "### Checking our Work\n",
    "\n",
    "Now, we'll check our work by selecting a random field id, and plotting it's orginal merge file + it's masked and scaled files. We'll do this for one band only."
   ]
  },
  {
   "cell_type": "code",
   "execution_count": 16,
   "id": "6343e939",
   "metadata": {},
   "outputs": [
    {
     "data": {
      "image/png": "[encoded data removed]",
      "text/plain": [
       "<Figure size 640x480 with 1 Axes>"
      ]
     },
     "metadata": {},
     "output_type": "display_data"
    }
   ],
   "source": [
    "field_id = 7332\n",
    "merge_id = merge_id = merge_map[merge_map['field_id'] == field_id]['merged_field_keys'].values[0]\n",
    "\n",
    "scaled_img_path = f'{data_dir}ref_agrifieldnet_competition_v1_proc/merged_TRAIN_v2/merged_TRAIN_v2_{merge_id}/field_ids.tif'\n",
    "floop_arr, _, src = read_geotiff(scaled_img_path)\n",
    "plt.figure()\n",
    "plt.imshow(floop_arr)\n",
    "#close the src\n",
    "src = None\n"
   ]
  },
  {
   "cell_type": "code",
   "execution_count": 17,
   "id": "bb7162d4",
   "metadata": {},
   "outputs": [
    {
     "data": {
      "image/png": "[encoded data removed]",
      "text/plain": [
       "<Figure size 640x480 with 1 Axes>"
      ]
     },
     "metadata": {},
     "output_type": "display_data"
    }
   ],
   "source": [
    "masked_img_path = f'{data_dir}ref_agrifieldnet_competition_v1_proc/masked_TRAIN/masked_TRAIN_{field_id}/B12.tif'\n",
    "floop_arr, _, src = read_geotiff(masked_img_path)\n",
    "plt.figure()\n",
    "plt.imshow(floop_arr)\n",
    "#close the src\n",
    "src = None\n"
   ]
  },
  {
   "cell_type": "code",
   "execution_count": 18,
   "id": "1eada181",
   "metadata": {},
   "outputs": [
    {
     "data": {
      "image/png": "[encoded data removed]",
      "text/plain": [
       "<Figure size 640x480 with 1 Axes>"
      ]
     },
     "metadata": {},
     "output_type": "display_data"
    }
   ],
   "source": [
    "scaled_img_path = f'{data_dir}/scaled_TRAIN/scaled_TRAIN_{field_id}/B12.tif'\n",
    "floop_arr, _, src = read_geotiff(scaled_img_path)\n",
    "plt.figure()\n",
    "plt.imshow(floop_arr)\n",
    "#close the src\n",
    "src = None"
   ]
  },
  {
   "cell_type": "code",
   "execution_count": null,
   "id": "3648984f",
   "metadata": {},
   "outputs": [],
   "source": []
  }
 ],
 "metadata": {
  "kernelspec": {
   "display_name": "Python 3.9.12 ('agrifieldnet_india-BoaCLkPv')",
   "language": "python",
   "name": "python3"
  },
  "language_info": {
   "codemirror_mode": {
    "name": "ipython",
    "version": 3
   },
   "file_extension": ".py",
   "mimetype": "text/x-python",
   "name": "python",
   "nbconvert_exporter": "python",
   "pygments_lexer": "ipython3",
   "version": "3.9.12"
  },
  "vscode": {
   "interpreter": {
    "hash": "7355c2727b54796c22120d6e464ece64811c7f3ffc4156bdaf6cc2c2e51a38b0"
   }
  }
 },
 "nbformat": 4,
 "nbformat_minor": 5
}
