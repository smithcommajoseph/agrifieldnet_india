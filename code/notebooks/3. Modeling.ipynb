{
 "cells": [
  {
   "cell_type": "markdown",
   "metadata": {},
   "source": [
    "# Modeling\n",
    "\n",
    "This notebook contains code that creates and tunes multiple classification models utilizing Random Forest (RF), Scalar Vector Machine (SVM), XGradient boost (XGB), and Multi-layer Perceptrons (MLP) algorithms. The final model is a voting classifier that utilizes each model as an estimator, where each estimator votes on the probability that a given field contains a particular crop. Ideally, this yields an ensemble model with greater predictive power than any single estimator could achieve working solo.\n",
    "\n",
    "## Setup\n",
    "\n",
    "Import the libraries + set the seed val"
   ]
  },
  {
   "cell_type": "code",
   "execution_count": 13,
   "metadata": {},
   "outputs": [],
   "source": [
    "import pickle\n",
    "import pandas as pd\n",
    "import seaborn as sns\n",
    "\n",
    "from sklearn.ensemble import RandomForestClassifier\n",
    "from sklearn.model_selection import train_test_split, GridSearchCV\n",
    "from sklearn.preprocessing import LabelEncoder, RobustScaler\n",
    "from sklearn.feature_selection import VarianceThreshold\n",
    "from sklearn.ensemble import VotingClassifier, RandomForestClassifier\n",
    "from xgboost import XGBClassifier\n",
    "from sklearn import svm\n",
    "from sklearn.neural_network import MLPClassifier\n",
    "\n",
    "from imblearn.over_sampling import SMOTE\n",
    "from imblearn.pipeline import Pipeline\n",
    "\n",
    "import sys\n",
    "sys.path.append('..')\n",
    "\n",
    "from utils.file_ops import *\n",
    "from utils.runtime_helpers import *\n",
    "\n",
    "seed_val = 922\n",
    "\n",
    "# get config\n",
    "CONFIG = read_yaml('../../conf.yaml')\n",
    "\n",
    "# get crops for crop_id -> crop_name resolution\n",
    "crops = CONFIG['CROPS']"
   ]
  },
  {
   "cell_type": "markdown",
   "metadata": {},
   "source": [
    "Load the data and add Crop Labels to Train Data"
   ]
  },
  {
   "cell_type": "code",
   "execution_count": 3,
   "metadata": {},
   "outputs": [
    {
     "name": "stdout",
     "output_type": "stream",
     "text": [
      "(5551, 115)\n"
     ]
    },
    {
     "data": {
      "text/html": [
       "<div>\n",
       "<style scoped>\n",
       "    .dataframe tbody tr th:only-of-type {\n",
       "        vertical-align: middle;\n",
       "    }\n",
       "\n",
       "    .dataframe tbody tr th {\n",
       "        vertical-align: top;\n",
       "    }\n",
       "\n",
       "    .dataframe thead th {\n",
       "        text-align: right;\n",
       "    }\n",
       "</style>\n",
       "<table border=\"1\" class=\"dataframe\">\n",
       "  <thead>\n",
       "    <tr style=\"text-align: right;\">\n",
       "      <th></th>\n",
       "      <th>field_id</th>\n",
       "      <th>pixels</th>\n",
       "      <th>B01_median</th>\n",
       "      <th>B01_mean</th>\n",
       "      <th>B01_std</th>\n",
       "      <th>B01_range</th>\n",
       "      <th>B02_median</th>\n",
       "      <th>B02_mean</th>\n",
       "      <th>B02_std</th>\n",
       "      <th>B02_range</th>\n",
       "      <th>...</th>\n",
       "      <th>NDMI_range</th>\n",
       "      <th>NDWI_median</th>\n",
       "      <th>NDWI_mean</th>\n",
       "      <th>NDWI_std</th>\n",
       "      <th>NDWI_range</th>\n",
       "      <th>brightness_median</th>\n",
       "      <th>brightness_mean</th>\n",
       "      <th>brightness_std</th>\n",
       "      <th>brightness_range</th>\n",
       "      <th>crop_id</th>\n",
       "    </tr>\n",
       "  </thead>\n",
       "  <tbody>\n",
       "    <tr>\n",
       "      <th>0</th>\n",
       "      <td>1</td>\n",
       "      <td>18</td>\n",
       "      <td>45.0</td>\n",
       "      <td>45.000000</td>\n",
       "      <td>0.000000</td>\n",
       "      <td>0</td>\n",
       "      <td>42.0</td>\n",
       "      <td>42.444444</td>\n",
       "      <td>0.511310</td>\n",
       "      <td>1</td>\n",
       "      <td>...</td>\n",
       "      <td>0.032660</td>\n",
       "      <td>-0.169811</td>\n",
       "      <td>-0.170352</td>\n",
       "      <td>0.009109</td>\n",
       "      <td>0.035951</td>\n",
       "      <td>63.5</td>\n",
       "      <td>63.688889</td>\n",
       "      <td>0.660560</td>\n",
       "      <td>2.0</td>\n",
       "      <td>1</td>\n",
       "    </tr>\n",
       "    <tr>\n",
       "      <th>1</th>\n",
       "      <td>2</td>\n",
       "      <td>12</td>\n",
       "      <td>45.0</td>\n",
       "      <td>45.000000</td>\n",
       "      <td>0.000000</td>\n",
       "      <td>0</td>\n",
       "      <td>42.0</td>\n",
       "      <td>42.000000</td>\n",
       "      <td>0.738549</td>\n",
       "      <td>2</td>\n",
       "      <td>...</td>\n",
       "      <td>0.040125</td>\n",
       "      <td>-0.201852</td>\n",
       "      <td>-0.205101</td>\n",
       "      <td>0.013323</td>\n",
       "      <td>0.042090</td>\n",
       "      <td>64.7</td>\n",
       "      <td>64.475000</td>\n",
       "      <td>0.903654</td>\n",
       "      <td>2.8</td>\n",
       "      <td>1</td>\n",
       "    </tr>\n",
       "    <tr>\n",
       "      <th>2</th>\n",
       "      <td>3</td>\n",
       "      <td>16</td>\n",
       "      <td>45.0</td>\n",
       "      <td>45.000000</td>\n",
       "      <td>0.000000</td>\n",
       "      <td>0</td>\n",
       "      <td>43.0</td>\n",
       "      <td>42.687500</td>\n",
       "      <td>1.250000</td>\n",
       "      <td>5</td>\n",
       "      <td>...</td>\n",
       "      <td>0.045760</td>\n",
       "      <td>-0.210526</td>\n",
       "      <td>-0.210190</td>\n",
       "      <td>0.017420</td>\n",
       "      <td>0.063147</td>\n",
       "      <td>66.5</td>\n",
       "      <td>66.543750</td>\n",
       "      <td>1.684822</td>\n",
       "      <td>5.1</td>\n",
       "      <td>1</td>\n",
       "    </tr>\n",
       "    <tr>\n",
       "      <th>3</th>\n",
       "      <td>4</td>\n",
       "      <td>15</td>\n",
       "      <td>46.0</td>\n",
       "      <td>45.866667</td>\n",
       "      <td>0.351866</td>\n",
       "      <td>1</td>\n",
       "      <td>43.0</td>\n",
       "      <td>42.466667</td>\n",
       "      <td>0.915475</td>\n",
       "      <td>3</td>\n",
       "      <td>...</td>\n",
       "      <td>0.027042</td>\n",
       "      <td>-0.166667</td>\n",
       "      <td>-0.177020</td>\n",
       "      <td>0.023648</td>\n",
       "      <td>0.076416</td>\n",
       "      <td>64.3</td>\n",
       "      <td>63.713333</td>\n",
       "      <td>1.084216</td>\n",
       "      <td>3.2</td>\n",
       "      <td>2</td>\n",
       "    </tr>\n",
       "    <tr>\n",
       "      <th>4</th>\n",
       "      <td>5</td>\n",
       "      <td>42</td>\n",
       "      <td>46.0</td>\n",
       "      <td>46.000000</td>\n",
       "      <td>0.000000</td>\n",
       "      <td>0</td>\n",
       "      <td>43.0</td>\n",
       "      <td>43.238095</td>\n",
       "      <td>0.576344</td>\n",
       "      <td>2</td>\n",
       "      <td>...</td>\n",
       "      <td>0.034662</td>\n",
       "      <td>-0.163636</td>\n",
       "      <td>-0.166941</td>\n",
       "      <td>0.015942</td>\n",
       "      <td>0.062861</td>\n",
       "      <td>64.6</td>\n",
       "      <td>64.704762</td>\n",
       "      <td>0.474189</td>\n",
       "      <td>2.3</td>\n",
       "      <td>2</td>\n",
       "    </tr>\n",
       "  </tbody>\n",
       "</table>\n",
       "<p>5 rows × 115 columns</p>\n",
       "</div>"
      ],
      "text/plain": [
       "   field_id  pixels  B01_median   B01_mean   B01_std  B01_range  B02_median  \\\n",
       "0         1      18        45.0  45.000000  0.000000          0        42.0   \n",
       "1         2      12        45.0  45.000000  0.000000          0        42.0   \n",
       "2         3      16        45.0  45.000000  0.000000          0        43.0   \n",
       "3         4      15        46.0  45.866667  0.351866          1        43.0   \n",
       "4         5      42        46.0  46.000000  0.000000          0        43.0   \n",
       "\n",
       "    B02_mean   B02_std  B02_range  ...  NDMI_range  NDWI_median  NDWI_mean  \\\n",
       "0  42.444444  0.511310          1  ...    0.032660    -0.169811  -0.170352   \n",
       "1  42.000000  0.738549          2  ...    0.040125    -0.201852  -0.205101   \n",
       "2  42.687500  1.250000          5  ...    0.045760    -0.210526  -0.210190   \n",
       "3  42.466667  0.915475          3  ...    0.027042    -0.166667  -0.177020   \n",
       "4  43.238095  0.576344          2  ...    0.034662    -0.163636  -0.166941   \n",
       "\n",
       "   NDWI_std  NDWI_range  brightness_median  brightness_mean  brightness_std  \\\n",
       "0  0.009109    0.035951               63.5        63.688889        0.660560   \n",
       "1  0.013323    0.042090               64.7        64.475000        0.903654   \n",
       "2  0.017420    0.063147               66.5        66.543750        1.684822   \n",
       "3  0.023648    0.076416               64.3        63.713333        1.084216   \n",
       "4  0.015942    0.062861               64.6        64.704762        0.474189   \n",
       "\n",
       "   brightness_range  crop_id  \n",
       "0               2.0        1  \n",
       "1               2.8        1  \n",
       "2               5.1        1  \n",
       "3               3.2        2  \n",
       "4               2.3        2  \n",
       "\n",
       "[5 rows x 115 columns]"
      ]
     },
     "execution_count": 3,
     "metadata": {},
     "output_type": "execute_result"
    }
   ],
   "source": [
    "data_dir = '../../data/'\n",
    "\n",
    "train_labels = pd.read_csv(f'{data_dir}labels_TRAIN.csv', index_col=[0])\n",
    "train_data_agg = pd.read_csv(f'{data_dir}pixel_data_agg_TRAIN.csv', index_col=[0])\n",
    "test_data_agg = pd.read_csv(f'{data_dir}pixel_data_agg_TEST.csv', index_col=[0])\n",
    "\n",
    "train_data_and_labels = train_data_agg.merge(train_labels, on=['field_id'])\n",
    "print(train_data_and_labels.shape)\n",
    "train_data_and_labels.head()"
   ]
  },
  {
   "cell_type": "markdown",
   "metadata": {},
   "source": [
    "## Create the Train / Test Splits"
   ]
  },
  {
   "cell_type": "markdown",
   "metadata": {},
   "source": [
    "While the Radiant MLHub's AgriFieldNet Competition Dataset ships with test data, the test dataset does not contain crop ids, our predictor (y) values. In the following code block, we split the training data into Test/Train splits so we may assess (validate) the effectiveness of our models on unseen data.\n",
    "\n",
    "We know this dataset is highly unbalanced, so we will utilize stratification to ensure each split contains data that matches the origin data's distribution of crop types. "
   ]
  },
  {
   "cell_type": "code",
   "execution_count": 4,
   "metadata": {},
   "outputs": [
    {
     "name": "stdout",
     "output_type": "stream",
     "text": [
      "(3719, 113)\n",
      "(1832, 113)\n"
     ]
    }
   ],
   "source": [
    "X = train_data_and_labels.drop(['field_id', 'crop_id'], axis=1)\n",
    "y = train_data_and_labels['crop_id']\n",
    "\n",
    "# split\n",
    "X_train, X_test, y_train, y_test = train_test_split(\n",
    "    X, y,\n",
    "    test_size=0.33,\n",
    "    random_state=seed_val,\n",
    "    stratify=y\n",
    ")\n",
    "\n",
    "# save the collection of field ids\n",
    "field_ids = test_data_agg['field_id']\n",
    "\n",
    "# encode the labels (needed by XGB)\n",
    "le = LabelEncoder()\n",
    "le.fit(y_train)\n",
    "y_train = le.transform(y_train)\n",
    "y_test = le.transform(y_test)\n",
    "\n",
    "print(X_train.shape)\n",
    "print(X_test.shape)"
   ]
  },
  {
   "cell_type": "markdown",
   "metadata": {},
   "source": [
    "## Baseline Model\n",
    "\n",
    "Radiant Earth includes a [starter notebook](https://github.com/radiantearth/agrifieldnet_india_competition/blob/main/Starter%20notebook.ipynb) that contains a baseline model for the AgrifieldNet India Competition. We can recreate and score that model using the following code.\n"
   ]
  },
  {
   "cell_type": "code",
   "execution_count": 39,
   "metadata": {},
   "outputs": [
    {
     "name": "stdout",
     "output_type": "stream",
     "text": [
      "Accuracy: 0.6277292576419214\n",
      "ROC AUC: 0.7732696502968152\n",
      "Logloss: 2.5656738792218037\n",
      "              precision    recall  f1-score   support\n",
      "\n",
      "           0       0.63      0.80      0.71       670\n",
      "           1       0.42      0.33      0.37       327\n",
      "           2       0.00      0.00      0.00        34\n",
      "           3       0.75      0.77      0.76       542\n",
      "           4       0.00      0.00      0.00         8\n",
      "           5       0.15      0.07      0.10        54\n",
      "           6       0.00      0.00      0.00        16\n",
      "           7       0.72      0.85      0.78        97\n",
      "           8       0.14      0.05      0.08        19\n",
      "           9       0.00      0.00      0.00         5\n",
      "          10       0.00      0.00      0.00        13\n",
      "          11       0.00      0.00      0.00         5\n",
      "          12       0.20      0.07      0.11        42\n",
      "\n",
      "    accuracy                           0.63      1832\n",
      "   macro avg       0.23      0.23      0.22      1832\n",
      "weighted avg       0.58      0.63      0.60      1832\n",
      "\n"
     ]
    }
   ],
   "source": [
    "baseline_agg_idxs = ['B01', 'B02', 'B03', 'B04', 'B05', 'B06', 'B07', 'B08', 'B8A', 'B09', 'B11', 'B12']\n",
    "baseline_agg_metrics = [ '_mean' ]\n",
    "baseline_selected = get_features(baseline_agg_idxs, baseline_agg_metrics)\n",
    "\n",
    "baseline_model = RandomForestClassifier(\n",
    "    n_estimators=20, \n",
    "    random_state=0, \n",
    "    n_jobs=3)\n",
    "baseline_model.fit(X_train[baseline_selected], y_train)\n",
    "\n",
    "(\n",
    "    baseline_model_y_prob, baseline_model_y_pred, baseline_model_acc, baseline_model_auc, baseline_model_ll\n",
    ") = eval_and_print_metrics( baseline_model, X_train[baseline_selected], y_train, X_test[baseline_selected], y_test )"
   ]
  },
  {
   "cell_type": "markdown",
   "metadata": {},
   "source": [
    "The results for our baseline model agree with Radiant Earth's baseline model acheiving approximately 61% accuracy, 74% AUC, and a logloss of 2.57. Note that the logloss calculated above agrees with the competition benchmark found on the [leaderboard](https://zindi.africa/competitions/agrifieldnet-india-challenge/leaderboard) which is 2.564949357."
   ]
  },
  {
   "attachments": {},
   "cell_type": "markdown",
   "metadata": {},
   "source": [
    "## Modeling\n",
    "\n",
    "We will use pipelines to preprocess and model our data. Each model will utilize identical preprocessing steps composed of scaling, feature selection, and oversampling of minority classes. \n",
    "\n",
    "- scaling: given that our features contain potential outliers, we utilize the `RobustScaler` as it scales features using statistics robust to outliers.\n",
    "- programmatic feature selection: `VarianceThreshold` removes low-variance features to improve the predictive power of our data (theoretically, at least.)\n",
    "- oversampling: crop types are not equally represented (imbalanced). Using `SMOTE`, we will oversample the minority classes in the data to attempt to overcome this.\n",
    "\n",
    "*Note: Past iterations also used PCA in the preprocessing pipeline, but we determined that PCA reduced our models' predictive power as implemented.*\n",
    "\n",
    "Below we utilize GridSearch to perform hyperparameter tuning for each model. We are using log loss as our scoring metric as it is better suited for evaluation than the default scoring metric, accuracy, due to the imbalanced nature of our data. We will Then, we execute and save a (somewhat tuned) model."
   ]
  },
  {
   "cell_type": "markdown",
   "metadata": {},
   "source": [
    "### Random Forest"
   ]
  },
  {
   "cell_type": "code",
   "execution_count": 113,
   "metadata": {},
   "outputs": [
    {
     "name": "stdout",
     "output_type": "stream",
     "text": [
      "-1.2041574267974453\n",
      "{'classifier__max_depth': 40, 'classifier__n_estimators': 500}\n"
     ]
    }
   ],
   "source": [
    "\n",
    "param_grid = {\n",
    "    'classifier__n_estimators': [350, 400, 500],\n",
    "    'classifier__max_depth': [30, 40, 50],\n",
    "}\n",
    "\n",
    "rf_p = Pipeline([\n",
    "    ('scaler', RobustScaler()),\n",
    "    ('selector', VarianceThreshold(threshold=0.001)),\n",
    "    ('smote', SMOTE(random_state=seed_val)),  \n",
    "    ('classifier', RandomForestClassifier(random_state=seed_val))\n",
    "])\n",
    "\n",
    "rf_p_cv = GridSearchCV(\n",
    "    estimator=rf_p,\n",
    "    param_grid=param_grid, \n",
    "    scoring='neg_log_loss', \n",
    "    cv=4,\n",
    "    verbose=False\n",
    ").fit(X_train, y_train)\n",
    "\n",
    "print(rf_p_cv.best_score_)\n",
    "print(rf_p_cv.best_params_)"
   ]
  },
  {
   "cell_type": "code",
   "execution_count": 117,
   "metadata": {},
   "outputs": [
    {
     "data": {
      "text/html": [
       "<style>#sk-container-id-26 {color: black;background-color: white;}#sk-container-id-26 pre{padding: 0;}#sk-container-id-26 div.sk-toggleable {background-color: white;}#sk-container-id-26 label.sk-toggleable__label {cursor: pointer;display: block;width: 100%;margin-bottom: 0;padding: 0.3em;box-sizing: border-box;text-align: center;}#sk-container-id-26 label.sk-toggleable__label-arrow:before {content: \"▸\";float: left;margin-right: 0.25em;color: #696969;}#sk-container-id-26 label.sk-toggleable__label-arrow:hover:before {color: black;}#sk-container-id-26 div.sk-estimator:hover label.sk-toggleable__label-arrow:before {color: black;}#sk-container-id-26 div.sk-toggleable__content {max-height: 0;max-width: 0;overflow: hidden;text-align: left;background-color: #f0f8ff;}#sk-container-id-26 div.sk-toggleable__content pre {margin: 0.2em;color: black;border-radius: 0.25em;background-color: #f0f8ff;}#sk-container-id-26 input.sk-toggleable__control:checked~div.sk-toggleable__content {max-height: 200px;max-width: 100%;overflow: auto;}#sk-container-id-26 input.sk-toggleable__control:checked~label.sk-toggleable__label-arrow:before {content: \"▾\";}#sk-container-id-26 div.sk-estimator input.sk-toggleable__control:checked~label.sk-toggleable__label {background-color: #d4ebff;}#sk-container-id-26 div.sk-label input.sk-toggleable__control:checked~label.sk-toggleable__label {background-color: #d4ebff;}#sk-container-id-26 input.sk-hidden--visually {border: 0;clip: rect(1px 1px 1px 1px);clip: rect(1px, 1px, 1px, 1px);height: 1px;margin: -1px;overflow: hidden;padding: 0;position: absolute;width: 1px;}#sk-container-id-26 div.sk-estimator {font-family: monospace;background-color: #f0f8ff;border: 1px dotted black;border-radius: 0.25em;box-sizing: border-box;margin-bottom: 0.5em;}#sk-container-id-26 div.sk-estimator:hover {background-color: #d4ebff;}#sk-container-id-26 div.sk-parallel-item::after {content: \"\";width: 100%;border-bottom: 1px solid gray;flex-grow: 1;}#sk-container-id-26 div.sk-label:hover label.sk-toggleable__label {background-color: #d4ebff;}#sk-container-id-26 div.sk-serial::before {content: \"\";position: absolute;border-left: 1px solid gray;box-sizing: border-box;top: 0;bottom: 0;left: 50%;z-index: 0;}#sk-container-id-26 div.sk-serial {display: flex;flex-direction: column;align-items: center;background-color: white;padding-right: 0.2em;padding-left: 0.2em;position: relative;}#sk-container-id-26 div.sk-item {position: relative;z-index: 1;}#sk-container-id-26 div.sk-parallel {display: flex;align-items: stretch;justify-content: center;background-color: white;position: relative;}#sk-container-id-26 div.sk-item::before, #sk-container-id-26 div.sk-parallel-item::before {content: \"\";position: absolute;border-left: 1px solid gray;box-sizing: border-box;top: 0;bottom: 0;left: 50%;z-index: -1;}#sk-container-id-26 div.sk-parallel-item {display: flex;flex-direction: column;z-index: 1;position: relative;background-color: white;}#sk-container-id-26 div.sk-parallel-item:first-child::after {align-self: flex-end;width: 50%;}#sk-container-id-26 div.sk-parallel-item:last-child::after {align-self: flex-start;width: 50%;}#sk-container-id-26 div.sk-parallel-item:only-child::after {width: 0;}#sk-container-id-26 div.sk-dashed-wrapped {border: 1px dashed gray;margin: 0 0.4em 0.5em 0.4em;box-sizing: border-box;padding-bottom: 0.4em;background-color: white;}#sk-container-id-26 div.sk-label label {font-family: monospace;font-weight: bold;display: inline-block;line-height: 1.2em;}#sk-container-id-26 div.sk-label-container {text-align: center;}#sk-container-id-26 div.sk-container {/* jupyter's `normalize.less` sets `[hidden] { display: none; }` but bootstrap.min.css set `[hidden] { display: none !important; }` so we also need the `!important` here to be able to override the default hidden behavior on the sphinx rendered scikit-learn.org. See: https://github.com/scikit-learn/scikit-learn/issues/21755 */display: inline-block !important;position: relative;}#sk-container-id-26 div.sk-text-repr-fallback {display: none;}</style><div id=\"sk-container-id-26\" class=\"sk-top-container\"><div class=\"sk-text-repr-fallback\"><pre>Pipeline(steps=[(&#x27;scaler&#x27;, RobustScaler()),\n",
       "                (&#x27;selector&#x27;, VarianceThreshold(threshold=0.001)),\n",
       "                (&#x27;smote&#x27;, SMOTE(random_state=922)),\n",
       "                (&#x27;classifier&#x27;,\n",
       "                 RandomForestClassifier(max_depth=40, n_estimators=500,\n",
       "                                        random_state=922))])</pre><b>In a Jupyter environment, please rerun this cell to show the HTML representation or trust the notebook. <br />On GitHub, the HTML representation is unable to render, please try loading this page with nbviewer.org.</b></div><div class=\"sk-container\" hidden><div class=\"sk-item sk-dashed-wrapped\"><div class=\"sk-label-container\"><div class=\"sk-label sk-toggleable\"><input class=\"sk-toggleable__control sk-hidden--visually\" id=\"sk-estimator-id-141\" type=\"checkbox\" ><label for=\"sk-estimator-id-141\" class=\"sk-toggleable__label sk-toggleable__label-arrow\">Pipeline</label><div class=\"sk-toggleable__content\"><pre>Pipeline(steps=[(&#x27;scaler&#x27;, RobustScaler()),\n",
       "                (&#x27;selector&#x27;, VarianceThreshold(threshold=0.001)),\n",
       "                (&#x27;smote&#x27;, SMOTE(random_state=922)),\n",
       "                (&#x27;classifier&#x27;,\n",
       "                 RandomForestClassifier(max_depth=40, n_estimators=500,\n",
       "                                        random_state=922))])</pre></div></div></div><div class=\"sk-serial\"><div class=\"sk-item\"><div class=\"sk-estimator sk-toggleable\"><input class=\"sk-toggleable__control sk-hidden--visually\" id=\"sk-estimator-id-142\" type=\"checkbox\" ><label for=\"sk-estimator-id-142\" class=\"sk-toggleable__label sk-toggleable__label-arrow\">RobustScaler</label><div class=\"sk-toggleable__content\"><pre>RobustScaler()</pre></div></div></div><div class=\"sk-item\"><div class=\"sk-estimator sk-toggleable\"><input class=\"sk-toggleable__control sk-hidden--visually\" id=\"sk-estimator-id-143\" type=\"checkbox\" ><label for=\"sk-estimator-id-143\" class=\"sk-toggleable__label sk-toggleable__label-arrow\">VarianceThreshold</label><div class=\"sk-toggleable__content\"><pre>VarianceThreshold(threshold=0.001)</pre></div></div></div><div class=\"sk-item\"><div class=\"sk-estimator sk-toggleable\"><input class=\"sk-toggleable__control sk-hidden--visually\" id=\"sk-estimator-id-144\" type=\"checkbox\" ><label for=\"sk-estimator-id-144\" class=\"sk-toggleable__label sk-toggleable__label-arrow\">SMOTE</label><div class=\"sk-toggleable__content\"><pre>SMOTE(random_state=922)</pre></div></div></div><div class=\"sk-item\"><div class=\"sk-estimator sk-toggleable\"><input class=\"sk-toggleable__control sk-hidden--visually\" id=\"sk-estimator-id-145\" type=\"checkbox\" ><label for=\"sk-estimator-id-145\" class=\"sk-toggleable__label sk-toggleable__label-arrow\">RandomForestClassifier</label><div class=\"sk-toggleable__content\"><pre>RandomForestClassifier(max_depth=40, n_estimators=500, random_state=922)</pre></div></div></div></div></div></div></div>"
      ],
      "text/plain": [
       "Pipeline(steps=[('scaler', RobustScaler()),\n",
       "                ('selector', VarianceThreshold(threshold=0.001)),\n",
       "                ('smote', SMOTE(random_state=922)),\n",
       "                ('classifier',\n",
       "                 RandomForestClassifier(max_depth=40, n_estimators=500,\n",
       "                                        random_state=922))])"
      ]
     },
     "execution_count": 117,
     "metadata": {},
     "output_type": "execute_result"
    }
   ],
   "source": [
    "rf_p = Pipeline([\n",
    "    ('scaler', RobustScaler()),\n",
    "    ('selector', VarianceThreshold(threshold=0.001)),\n",
    "    ('smote', SMOTE(random_state=seed_val)),  \n",
    "    ('classifier', RandomForestClassifier(\n",
    "        random_state=seed_val,\n",
    "        max_depth=40,\n",
    "        n_estimators=500\n",
    "        ))\n",
    "])\n",
    "rf_p.fit(X_train, y_train)"
   ]
  },
  {
   "cell_type": "code",
   "execution_count": 118,
   "metadata": {},
   "outputs": [
    {
     "name": "stdout",
     "output_type": "stream",
     "text": [
      "Accuracy: 0.62882096069869\n",
      "ROC AUC: 0.8496045952173322\n",
      "Logloss: 1.1828996408655292\n",
      "              precision    recall  f1-score   support\n",
      "\n",
      "           0       0.70      0.74      0.72       670\n",
      "           1       0.45      0.37      0.41       327\n",
      "           2       0.07      0.06      0.06        34\n",
      "           3       0.86      0.74      0.80       542\n",
      "           4       0.00      0.00      0.00         8\n",
      "           5       0.22      0.43      0.29        54\n",
      "           6       0.05      0.06      0.05        16\n",
      "           7       0.63      0.88      0.73        97\n",
      "           8       0.21      0.37      0.27        19\n",
      "           9       0.00      0.00      0.00         5\n",
      "          10       0.08      0.08      0.08        13\n",
      "          11       0.00      0.00      0.00         5\n",
      "          12       0.28      0.26      0.27        42\n",
      "\n",
      "    accuracy                           0.63      1832\n",
      "   macro avg       0.27      0.31      0.28      1832\n",
      "weighted avg       0.64      0.63      0.63      1832\n",
      "\n"
     ]
    }
   ],
   "source": [
    "(\n",
    "    rf_p_y_prob, rf_p_y_pred, rf_p_acc, rf_p_auc, rf_p_ll\n",
    ") = eval_and_print_metrics( rf_p, X_train, y_train, X_test, y_test )"
   ]
  },
  {
   "cell_type": "code",
   "execution_count": 123,
   "metadata": {},
   "outputs": [],
   "source": [
    "filename='../../saved_models/rf_p.sav'\n",
    "pickle.dump(rf_p, open(filename, 'wb'))"
   ]
  },
  {
   "cell_type": "markdown",
   "metadata": {},
   "source": [
    "### X Gradient Boost"
   ]
  },
  {
   "cell_type": "code",
   "execution_count": 120,
   "metadata": {},
   "outputs": [
    {
     "name": "stdout",
     "output_type": "stream",
     "text": [
      "-1.16688357944116\n",
      "{'classifier__learning_rate': 0.09, 'classifier__max_depth': 10, 'classifier__n_estimators': 100}\n"
     ]
    }
   ],
   "source": [
    "\n",
    "param_grid = {\n",
    "    'classifier__n_estimators': [100, 120, 150],\n",
    "    'classifier__max_depth': [10, 15, 20],\n",
    "    'classifier__learning_rate': [0.09, 0.1, 0.2]\n",
    "}\n",
    "\n",
    "xgb_p = Pipeline([\n",
    "    ('scaler', RobustScaler()),\n",
    "    ('selector', VarianceThreshold(threshold=0.001)),\n",
    "    ('smote', SMOTE(random_state=seed_val)),  \n",
    "    ('classifier', XGBClassifier(random_state=seed_val))\n",
    "])\n",
    "\n",
    "xgb_p_cv = GridSearchCV(\n",
    "    estimator=xgb_p,\n",
    "    param_grid=param_grid, \n",
    "    scoring='neg_log_loss',\n",
    "    cv=4,\n",
    "    verbose=False\n",
    ").fit(X_train, y_train)\n",
    "\n",
    "print(xgb_p_cv.best_score_)\n",
    "print(xgb_p_cv.best_params_)"
   ]
  },
  {
   "cell_type": "code",
   "execution_count": 122,
   "metadata": {},
   "outputs": [
    {
     "data": {
      "text/html": [
       "<style>#sk-container-id-27 {color: black;background-color: white;}#sk-container-id-27 pre{padding: 0;}#sk-container-id-27 div.sk-toggleable {background-color: white;}#sk-container-id-27 label.sk-toggleable__label {cursor: pointer;display: block;width: 100%;margin-bottom: 0;padding: 0.3em;box-sizing: border-box;text-align: center;}#sk-container-id-27 label.sk-toggleable__label-arrow:before {content: \"▸\";float: left;margin-right: 0.25em;color: #696969;}#sk-container-id-27 label.sk-toggleable__label-arrow:hover:before {color: black;}#sk-container-id-27 div.sk-estimator:hover label.sk-toggleable__label-arrow:before {color: black;}#sk-container-id-27 div.sk-toggleable__content {max-height: 0;max-width: 0;overflow: hidden;text-align: left;background-color: #f0f8ff;}#sk-container-id-27 div.sk-toggleable__content pre {margin: 0.2em;color: black;border-radius: 0.25em;background-color: #f0f8ff;}#sk-container-id-27 input.sk-toggleable__control:checked~div.sk-toggleable__content {max-height: 200px;max-width: 100%;overflow: auto;}#sk-container-id-27 input.sk-toggleable__control:checked~label.sk-toggleable__label-arrow:before {content: \"▾\";}#sk-container-id-27 div.sk-estimator input.sk-toggleable__control:checked~label.sk-toggleable__label {background-color: #d4ebff;}#sk-container-id-27 div.sk-label input.sk-toggleable__control:checked~label.sk-toggleable__label {background-color: #d4ebff;}#sk-container-id-27 input.sk-hidden--visually {border: 0;clip: rect(1px 1px 1px 1px);clip: rect(1px, 1px, 1px, 1px);height: 1px;margin: -1px;overflow: hidden;padding: 0;position: absolute;width: 1px;}#sk-container-id-27 div.sk-estimator {font-family: monospace;background-color: #f0f8ff;border: 1px dotted black;border-radius: 0.25em;box-sizing: border-box;margin-bottom: 0.5em;}#sk-container-id-27 div.sk-estimator:hover {background-color: #d4ebff;}#sk-container-id-27 div.sk-parallel-item::after {content: \"\";width: 100%;border-bottom: 1px solid gray;flex-grow: 1;}#sk-container-id-27 div.sk-label:hover label.sk-toggleable__label {background-color: #d4ebff;}#sk-container-id-27 div.sk-serial::before {content: \"\";position: absolute;border-left: 1px solid gray;box-sizing: border-box;top: 0;bottom: 0;left: 50%;z-index: 0;}#sk-container-id-27 div.sk-serial {display: flex;flex-direction: column;align-items: center;background-color: white;padding-right: 0.2em;padding-left: 0.2em;position: relative;}#sk-container-id-27 div.sk-item {position: relative;z-index: 1;}#sk-container-id-27 div.sk-parallel {display: flex;align-items: stretch;justify-content: center;background-color: white;position: relative;}#sk-container-id-27 div.sk-item::before, #sk-container-id-27 div.sk-parallel-item::before {content: \"\";position: absolute;border-left: 1px solid gray;box-sizing: border-box;top: 0;bottom: 0;left: 50%;z-index: -1;}#sk-container-id-27 div.sk-parallel-item {display: flex;flex-direction: column;z-index: 1;position: relative;background-color: white;}#sk-container-id-27 div.sk-parallel-item:first-child::after {align-self: flex-end;width: 50%;}#sk-container-id-27 div.sk-parallel-item:last-child::after {align-self: flex-start;width: 50%;}#sk-container-id-27 div.sk-parallel-item:only-child::after {width: 0;}#sk-container-id-27 div.sk-dashed-wrapped {border: 1px dashed gray;margin: 0 0.4em 0.5em 0.4em;box-sizing: border-box;padding-bottom: 0.4em;background-color: white;}#sk-container-id-27 div.sk-label label {font-family: monospace;font-weight: bold;display: inline-block;line-height: 1.2em;}#sk-container-id-27 div.sk-label-container {text-align: center;}#sk-container-id-27 div.sk-container {/* jupyter's `normalize.less` sets `[hidden] { display: none; }` but bootstrap.min.css set `[hidden] { display: none !important; }` so we also need the `!important` here to be able to override the default hidden behavior on the sphinx rendered scikit-learn.org. See: https://github.com/scikit-learn/scikit-learn/issues/21755 */display: inline-block !important;position: relative;}#sk-container-id-27 div.sk-text-repr-fallback {display: none;}</style><div id=\"sk-container-id-27\" class=\"sk-top-container\"><div class=\"sk-text-repr-fallback\"><pre>Pipeline(steps=[(&#x27;scaler&#x27;, RobustScaler()),\n",
       "                (&#x27;selector&#x27;, VarianceThreshold(threshold=0.001)),\n",
       "                (&#x27;smote&#x27;, SMOTE(random_state=922)),\n",
       "                (&#x27;classifier&#x27;,\n",
       "                 XGBClassifier(base_score=0.5, booster=&#x27;gbtree&#x27;, callbacks=None,\n",
       "                               colsample_bylevel=1, colsample_bynode=1,\n",
       "                               colsample_bytree=1, early_stopping_rounds=None,\n",
       "                               enable_categorical=False, eval_metric=None,\n",
       "                               feature_types=None, gamma...pu_id=-1,\n",
       "                               grow_policy=&#x27;depthwise&#x27;, importance_type=None,\n",
       "                               interaction_constraints=&#x27;&#x27;, learning_rate=0.09,\n",
       "                               max_bin=256, max_cat_threshold=64,\n",
       "                               max_cat_to_onehot=4, max_delta_step=0,\n",
       "                               max_depth=10, max_leaves=0, min_child_weight=1,\n",
       "                               missing=nan, monotone_constraints=&#x27;()&#x27;,\n",
       "                               n_estimators=100, n_jobs=0, num_parallel_tree=1,\n",
       "                               objective=&#x27;multi:softprob&#x27;, predictor=&#x27;auto&#x27;, ...))])</pre><b>In a Jupyter environment, please rerun this cell to show the HTML representation or trust the notebook. <br />On GitHub, the HTML representation is unable to render, please try loading this page with nbviewer.org.</b></div><div class=\"sk-container\" hidden><div class=\"sk-item sk-dashed-wrapped\"><div class=\"sk-label-container\"><div class=\"sk-label sk-toggleable\"><input class=\"sk-toggleable__control sk-hidden--visually\" id=\"sk-estimator-id-146\" type=\"checkbox\" ><label for=\"sk-estimator-id-146\" class=\"sk-toggleable__label sk-toggleable__label-arrow\">Pipeline</label><div class=\"sk-toggleable__content\"><pre>Pipeline(steps=[(&#x27;scaler&#x27;, RobustScaler()),\n",
       "                (&#x27;selector&#x27;, VarianceThreshold(threshold=0.001)),\n",
       "                (&#x27;smote&#x27;, SMOTE(random_state=922)),\n",
       "                (&#x27;classifier&#x27;,\n",
       "                 XGBClassifier(base_score=0.5, booster=&#x27;gbtree&#x27;, callbacks=None,\n",
       "                               colsample_bylevel=1, colsample_bynode=1,\n",
       "                               colsample_bytree=1, early_stopping_rounds=None,\n",
       "                               enable_categorical=False, eval_metric=None,\n",
       "                               feature_types=None, gamma...pu_id=-1,\n",
       "                               grow_policy=&#x27;depthwise&#x27;, importance_type=None,\n",
       "                               interaction_constraints=&#x27;&#x27;, learning_rate=0.09,\n",
       "                               max_bin=256, max_cat_threshold=64,\n",
       "                               max_cat_to_onehot=4, max_delta_step=0,\n",
       "                               max_depth=10, max_leaves=0, min_child_weight=1,\n",
       "                               missing=nan, monotone_constraints=&#x27;()&#x27;,\n",
       "                               n_estimators=100, n_jobs=0, num_parallel_tree=1,\n",
       "                               objective=&#x27;multi:softprob&#x27;, predictor=&#x27;auto&#x27;, ...))])</pre></div></div></div><div class=\"sk-serial\"><div class=\"sk-item\"><div class=\"sk-estimator sk-toggleable\"><input class=\"sk-toggleable__control sk-hidden--visually\" id=\"sk-estimator-id-147\" type=\"checkbox\" ><label for=\"sk-estimator-id-147\" class=\"sk-toggleable__label sk-toggleable__label-arrow\">RobustScaler</label><div class=\"sk-toggleable__content\"><pre>RobustScaler()</pre></div></div></div><div class=\"sk-item\"><div class=\"sk-estimator sk-toggleable\"><input class=\"sk-toggleable__control sk-hidden--visually\" id=\"sk-estimator-id-148\" type=\"checkbox\" ><label for=\"sk-estimator-id-148\" class=\"sk-toggleable__label sk-toggleable__label-arrow\">VarianceThreshold</label><div class=\"sk-toggleable__content\"><pre>VarianceThreshold(threshold=0.001)</pre></div></div></div><div class=\"sk-item\"><div class=\"sk-estimator sk-toggleable\"><input class=\"sk-toggleable__control sk-hidden--visually\" id=\"sk-estimator-id-149\" type=\"checkbox\" ><label for=\"sk-estimator-id-149\" class=\"sk-toggleable__label sk-toggleable__label-arrow\">SMOTE</label><div class=\"sk-toggleable__content\"><pre>SMOTE(random_state=922)</pre></div></div></div><div class=\"sk-item\"><div class=\"sk-estimator sk-toggleable\"><input class=\"sk-toggleable__control sk-hidden--visually\" id=\"sk-estimator-id-150\" type=\"checkbox\" ><label for=\"sk-estimator-id-150\" class=\"sk-toggleable__label sk-toggleable__label-arrow\">XGBClassifier</label><div class=\"sk-toggleable__content\"><pre>XGBClassifier(base_score=0.5, booster=&#x27;gbtree&#x27;, callbacks=None,\n",
       "              colsample_bylevel=1, colsample_bynode=1, colsample_bytree=1,\n",
       "              early_stopping_rounds=None, enable_categorical=False,\n",
       "              eval_metric=None, feature_types=None, gamma=0, gpu_id=-1,\n",
       "              grow_policy=&#x27;depthwise&#x27;, importance_type=None,\n",
       "              interaction_constraints=&#x27;&#x27;, learning_rate=0.09, max_bin=256,\n",
       "              max_cat_threshold=64, max_cat_to_onehot=4, max_delta_step=0,\n",
       "              max_depth=10, max_leaves=0, min_child_weight=1, missing=nan,\n",
       "              monotone_constraints=&#x27;()&#x27;, n_estimators=100, n_jobs=0,\n",
       "              num_parallel_tree=1, objective=&#x27;multi:softprob&#x27;, predictor=&#x27;auto&#x27;, ...)</pre></div></div></div></div></div></div></div>"
      ],
      "text/plain": [
       "Pipeline(steps=[('scaler', RobustScaler()),\n",
       "                ('selector', VarianceThreshold(threshold=0.001)),\n",
       "                ('smote', SMOTE(random_state=922)),\n",
       "                ('classifier',\n",
       "                 XGBClassifier(base_score=0.5, booster='gbtree', callbacks=None,\n",
       "                               colsample_bylevel=1, colsample_bynode=1,\n",
       "                               colsample_bytree=1, early_stopping_rounds=None,\n",
       "                               enable_categorical=False, eval_metric=None,\n",
       "                               feature_types=None, gamma...pu_id=-1,\n",
       "                               grow_policy='depthwise', importance_type=None,\n",
       "                               interaction_constraints='', learning_rate=0.09,\n",
       "                               max_bin=256, max_cat_threshold=64,\n",
       "                               max_cat_to_onehot=4, max_delta_step=0,\n",
       "                               max_depth=10, max_leaves=0, min_child_weight=1,\n",
       "                               missing=nan, monotone_constraints='()',\n",
       "                               n_estimators=100, n_jobs=0, num_parallel_tree=1,\n",
       "                               objective='multi:softprob', predictor='auto', ...))])"
      ]
     },
     "execution_count": 122,
     "metadata": {},
     "output_type": "execute_result"
    }
   ],
   "source": [
    "xgb_p = Pipeline([\n",
    "    ('scaler', RobustScaler()),\n",
    "    ('selector', VarianceThreshold(threshold=0.001)),\n",
    "    ('smote', SMOTE(random_state=seed_val)),  \n",
    "    ('classifier', XGBClassifier(\n",
    "        random_state=seed_val,\n",
    "        learning_rate=0.09,\n",
    "        max_depth=10,\n",
    "        n_estimators=100))\n",
    "])\n",
    "xgb_p.fit(X_train, y_train)\n"
   ]
  },
  {
   "cell_type": "code",
   "execution_count": 124,
   "metadata": {},
   "outputs": [
    {
     "name": "stdout",
     "output_type": "stream",
     "text": [
      "Accuracy: 0.6457423580786026\n",
      "ROC AUC: 0.8504865032845426\n",
      "Logloss: 1.0672059052116207\n",
      "              precision    recall  f1-score   support\n",
      "\n",
      "           0       0.69      0.80      0.74       670\n",
      "           1       0.47      0.36      0.41       327\n",
      "           2       0.04      0.03      0.04        34\n",
      "           3       0.82      0.77      0.79       542\n",
      "           4       0.00      0.00      0.00         8\n",
      "           5       0.28      0.33      0.30        54\n",
      "           6       0.00      0.00      0.00        16\n",
      "           7       0.68      0.84      0.75        97\n",
      "           8       0.14      0.16      0.15        19\n",
      "           9       0.00      0.00      0.00         5\n",
      "          10       0.08      0.08      0.08        13\n",
      "          11       0.00      0.00      0.00         5\n",
      "          12       0.33      0.26      0.29        42\n",
      "\n",
      "    accuracy                           0.65      1832\n",
      "   macro avg       0.27      0.28      0.27      1832\n",
      "weighted avg       0.63      0.65      0.63      1832\n",
      "\n"
     ]
    }
   ],
   "source": [
    "(\n",
    "    xgb_p_y_prob, xgb_p_y_pred, xgb_p_acc, xgb_p_auc, xgb_p_ll\n",
    ") = eval_and_print_metrics( xgb_p, X_train, y_train, X_test, y_test )"
   ]
  },
  {
   "cell_type": "code",
   "execution_count": 125,
   "metadata": {},
   "outputs": [],
   "source": [
    "filename='../../saved_models/xgb_p.sav'\n",
    "pickle.dump(xgb_p, open(filename, 'wb'))"
   ]
  },
  {
   "cell_type": "markdown",
   "metadata": {},
   "source": [
    "### Scalable Vector Machines"
   ]
  },
  {
   "cell_type": "code",
   "execution_count": null,
   "metadata": {},
   "outputs": [
    {
     "name": "stdout",
     "output_type": "stream",
     "text": [
      "-1.2792363772832647\n",
      "{'classifier__decision_function_shape': 'ovr', 'classifier__kernel': 'rbf'}\n"
     ]
    }
   ],
   "source": [
    "param_grid = {\n",
    "    'classifier__kernel': ['poly', 'rbf', 'sigmoid'],\n",
    "    'classifier__decision_function_shape': ['ovr', 'ovo'],\n",
    "}\n",
    "\n",
    "svm_p = Pipeline([\n",
    "    ('scaler', RobustScaler()),\n",
    "    ('selector', VarianceThreshold(threshold=0.001)),\n",
    "    ('smote', SMOTE(random_state=seed_val)),  \n",
    "    ('classifier', svm.SVC(\n",
    "        random_state=seed_val,\n",
    "        probability=True))\n",
    "])\n",
    "\n",
    "svm_p_cv = GridSearchCV(\n",
    "    estimator=svm_p,\n",
    "    param_grid=param_grid, \n",
    "    scoring='neg_log_loss', \n",
    "    cv=4,\n",
    "    verbose=False\n",
    ").fit(X_train, y_train)\n",
    "\n",
    "print(svm_p_cv.best_score_)\n",
    "print(svm_p_cv.best_params_)"
   ]
  },
  {
   "cell_type": "code",
   "execution_count": null,
   "metadata": {},
   "outputs": [
    {
     "data": {
      "text/html": [
       "<style>#sk-container-id-1 {color: black;background-color: white;}#sk-container-id-1 pre{padding: 0;}#sk-container-id-1 div.sk-toggleable {background-color: white;}#sk-container-id-1 label.sk-toggleable__label {cursor: pointer;display: block;width: 100%;margin-bottom: 0;padding: 0.3em;box-sizing: border-box;text-align: center;}#sk-container-id-1 label.sk-toggleable__label-arrow:before {content: \"▸\";float: left;margin-right: 0.25em;color: #696969;}#sk-container-id-1 label.sk-toggleable__label-arrow:hover:before {color: black;}#sk-container-id-1 div.sk-estimator:hover label.sk-toggleable__label-arrow:before {color: black;}#sk-container-id-1 div.sk-toggleable__content {max-height: 0;max-width: 0;overflow: hidden;text-align: left;background-color: #f0f8ff;}#sk-container-id-1 div.sk-toggleable__content pre {margin: 0.2em;color: black;border-radius: 0.25em;background-color: #f0f8ff;}#sk-container-id-1 input.sk-toggleable__control:checked~div.sk-toggleable__content {max-height: 200px;max-width: 100%;overflow: auto;}#sk-container-id-1 input.sk-toggleable__control:checked~label.sk-toggleable__label-arrow:before {content: \"▾\";}#sk-container-id-1 div.sk-estimator input.sk-toggleable__control:checked~label.sk-toggleable__label {background-color: #d4ebff;}#sk-container-id-1 div.sk-label input.sk-toggleable__control:checked~label.sk-toggleable__label {background-color: #d4ebff;}#sk-container-id-1 input.sk-hidden--visually {border: 0;clip: rect(1px 1px 1px 1px);clip: rect(1px, 1px, 1px, 1px);height: 1px;margin: -1px;overflow: hidden;padding: 0;position: absolute;width: 1px;}#sk-container-id-1 div.sk-estimator {font-family: monospace;background-color: #f0f8ff;border: 1px dotted black;border-radius: 0.25em;box-sizing: border-box;margin-bottom: 0.5em;}#sk-container-id-1 div.sk-estimator:hover {background-color: #d4ebff;}#sk-container-id-1 div.sk-parallel-item::after {content: \"\";width: 100%;border-bottom: 1px solid gray;flex-grow: 1;}#sk-container-id-1 div.sk-label:hover label.sk-toggleable__label {background-color: #d4ebff;}#sk-container-id-1 div.sk-serial::before {content: \"\";position: absolute;border-left: 1px solid gray;box-sizing: border-box;top: 0;bottom: 0;left: 50%;z-index: 0;}#sk-container-id-1 div.sk-serial {display: flex;flex-direction: column;align-items: center;background-color: white;padding-right: 0.2em;padding-left: 0.2em;position: relative;}#sk-container-id-1 div.sk-item {position: relative;z-index: 1;}#sk-container-id-1 div.sk-parallel {display: flex;align-items: stretch;justify-content: center;background-color: white;position: relative;}#sk-container-id-1 div.sk-item::before, #sk-container-id-1 div.sk-parallel-item::before {content: \"\";position: absolute;border-left: 1px solid gray;box-sizing: border-box;top: 0;bottom: 0;left: 50%;z-index: -1;}#sk-container-id-1 div.sk-parallel-item {display: flex;flex-direction: column;z-index: 1;position: relative;background-color: white;}#sk-container-id-1 div.sk-parallel-item:first-child::after {align-self: flex-end;width: 50%;}#sk-container-id-1 div.sk-parallel-item:last-child::after {align-self: flex-start;width: 50%;}#sk-container-id-1 div.sk-parallel-item:only-child::after {width: 0;}#sk-container-id-1 div.sk-dashed-wrapped {border: 1px dashed gray;margin: 0 0.4em 0.5em 0.4em;box-sizing: border-box;padding-bottom: 0.4em;background-color: white;}#sk-container-id-1 div.sk-label label {font-family: monospace;font-weight: bold;display: inline-block;line-height: 1.2em;}#sk-container-id-1 div.sk-label-container {text-align: center;}#sk-container-id-1 div.sk-container {/* jupyter's `normalize.less` sets `[hidden] { display: none; }` but bootstrap.min.css set `[hidden] { display: none !important; }` so we also need the `!important` here to be able to override the default hidden behavior on the sphinx rendered scikit-learn.org. See: https://github.com/scikit-learn/scikit-learn/issues/21755 */display: inline-block !important;position: relative;}#sk-container-id-1 div.sk-text-repr-fallback {display: none;}</style><div id=\"sk-container-id-1\" class=\"sk-top-container\"><div class=\"sk-text-repr-fallback\"><pre>Pipeline(steps=[(&#x27;scaler&#x27;, RobustScaler()),\n",
       "                (&#x27;selector&#x27;, VarianceThreshold(threshold=0.001)),\n",
       "                (&#x27;smote&#x27;, SMOTE(random_state=922)),\n",
       "                (&#x27;classifier&#x27;, SVC(probability=True, random_state=922))])</pre><b>In a Jupyter environment, please rerun this cell to show the HTML representation or trust the notebook. <br />On GitHub, the HTML representation is unable to render, please try loading this page with nbviewer.org.</b></div><div class=\"sk-container\" hidden><div class=\"sk-item sk-dashed-wrapped\"><div class=\"sk-label-container\"><div class=\"sk-label sk-toggleable\"><input class=\"sk-toggleable__control sk-hidden--visually\" id=\"sk-estimator-id-1\" type=\"checkbox\" ><label for=\"sk-estimator-id-1\" class=\"sk-toggleable__label sk-toggleable__label-arrow\">Pipeline</label><div class=\"sk-toggleable__content\"><pre>Pipeline(steps=[(&#x27;scaler&#x27;, RobustScaler()),\n",
       "                (&#x27;selector&#x27;, VarianceThreshold(threshold=0.001)),\n",
       "                (&#x27;smote&#x27;, SMOTE(random_state=922)),\n",
       "                (&#x27;classifier&#x27;, SVC(probability=True, random_state=922))])</pre></div></div></div><div class=\"sk-serial\"><div class=\"sk-item\"><div class=\"sk-estimator sk-toggleable\"><input class=\"sk-toggleable__control sk-hidden--visually\" id=\"sk-estimator-id-2\" type=\"checkbox\" ><label for=\"sk-estimator-id-2\" class=\"sk-toggleable__label sk-toggleable__label-arrow\">RobustScaler</label><div class=\"sk-toggleable__content\"><pre>RobustScaler()</pre></div></div></div><div class=\"sk-item\"><div class=\"sk-estimator sk-toggleable\"><input class=\"sk-toggleable__control sk-hidden--visually\" id=\"sk-estimator-id-3\" type=\"checkbox\" ><label for=\"sk-estimator-id-3\" class=\"sk-toggleable__label sk-toggleable__label-arrow\">VarianceThreshold</label><div class=\"sk-toggleable__content\"><pre>VarianceThreshold(threshold=0.001)</pre></div></div></div><div class=\"sk-item\"><div class=\"sk-estimator sk-toggleable\"><input class=\"sk-toggleable__control sk-hidden--visually\" id=\"sk-estimator-id-4\" type=\"checkbox\" ><label for=\"sk-estimator-id-4\" class=\"sk-toggleable__label sk-toggleable__label-arrow\">SMOTE</label><div class=\"sk-toggleable__content\"><pre>SMOTE(random_state=922)</pre></div></div></div><div class=\"sk-item\"><div class=\"sk-estimator sk-toggleable\"><input class=\"sk-toggleable__control sk-hidden--visually\" id=\"sk-estimator-id-5\" type=\"checkbox\" ><label for=\"sk-estimator-id-5\" class=\"sk-toggleable__label sk-toggleable__label-arrow\">SVC</label><div class=\"sk-toggleable__content\"><pre>SVC(probability=True, random_state=922)</pre></div></div></div></div></div></div></div>"
      ],
      "text/plain": [
       "Pipeline(steps=[('scaler', RobustScaler()),\n",
       "                ('selector', VarianceThreshold(threshold=0.001)),\n",
       "                ('smote', SMOTE(random_state=922)),\n",
       "                ('classifier', SVC(probability=True, random_state=922))])"
      ]
     },
     "execution_count": 5,
     "metadata": {},
     "output_type": "execute_result"
    }
   ],
   "source": [
    "svm_p = Pipeline([\n",
    "    ('scaler', RobustScaler()),\n",
    "    ('selector', VarianceThreshold(threshold=0.001)),\n",
    "    ('smote', SMOTE(random_state=seed_val)),  \n",
    "    ('classifier', svm.SVC(\n",
    "        random_state=seed_val,\n",
    "        probability=True,\n",
    "        kernel='rbf',\n",
    "        decision_function_shape='ovr',\n",
    "        ))\n",
    "])\n",
    "\n",
    "svm_p.fit(X_train, y_train)"
   ]
  },
  {
   "cell_type": "code",
   "execution_count": null,
   "metadata": {},
   "outputs": [
    {
     "name": "stdout",
     "output_type": "stream",
     "text": [
      "Accuracy: 0.5294759825327511\n",
      "ROC AUC: 0.81495972641027\n",
      "Logloss: 1.2665063802296515\n",
      "              precision    recall  f1-score   support\n",
      "\n",
      "           0       0.74      0.55      0.63       670\n",
      "           1       0.45      0.34      0.39       327\n",
      "           2       0.07      0.29      0.11        34\n",
      "           3       0.87      0.61      0.72       542\n",
      "           4       0.06      0.12      0.08         8\n",
      "           5       0.19      0.57      0.29        54\n",
      "           6       0.06      0.12      0.08        16\n",
      "           7       0.64      0.85      0.73        97\n",
      "           8       0.15      0.47      0.23        19\n",
      "           9       0.00      0.00      0.00         5\n",
      "          10       0.07      0.15      0.10        13\n",
      "          11       0.00      0.00      0.00         5\n",
      "          12       0.17      0.40      0.24        42\n",
      "\n",
      "    accuracy                           0.53      1832\n",
      "   macro avg       0.27      0.35      0.28      1832\n",
      "weighted avg       0.65      0.53      0.57      1832\n",
      "\n"
     ]
    }
   ],
   "source": [
    "(\n",
    "    svm_p_y_prob, svm_p_y_pred, svm_p_acc, svm_p_auc, svm_p_ll\n",
    ") = eval_and_print_metrics( svm_p, X_train, y_train, X_test, y_test )"
   ]
  },
  {
   "cell_type": "code",
   "execution_count": null,
   "metadata": {},
   "outputs": [],
   "source": [
    "filename='../../saved_models/svm_p.sav'\n",
    "pickle.dump(svm_p, open(filename, 'wb'))"
   ]
  },
  {
   "cell_type": "markdown",
   "metadata": {},
   "source": [
    "### Multi-Layer Perceptron"
   ]
  },
  {
   "cell_type": "code",
   "execution_count": 49,
   "metadata": {},
   "outputs": [
    {
     "data": {
      "text/plain": [
       "array([8.e-05, 9.e-05, 1.e-04])"
      ]
     },
     "execution_count": 49,
     "metadata": {},
     "output_type": "execute_result"
    }
   ],
   "source": [
    "np.arange(start=0.00008, stop=0.00011, step=0.00001)"
   ]
  },
  {
   "cell_type": "code",
   "execution_count": 121,
   "metadata": {},
   "outputs": [
    {
     "name": "stdout",
     "output_type": "stream",
     "text": [
      "-1.9405638743422327\n",
      "{'classifier__alpha': 8e-05, 'classifier__hidden_layer_sizes': 8, 'classifier__solver': 'sgd'}\n"
     ]
    }
   ],
   "source": [
    "param_grid = {\n",
    "    'classifier__hidden_layer_sizes': [8, 16, 32, 64],\n",
    "    'classifier__solver': ['sgd', 'adam'],\n",
    "    'classifier__alpha': np.arange(start=0.00008, stop=0.0005, step=0.0001),\n",
    "}\n",
    "\n",
    "mlp_p = Pipeline([\n",
    "    ('scaler', RobustScaler()),\n",
    "    ('selector', VarianceThreshold(threshold=0.001)),\n",
    "    ('smote', SMOTE(random_state=seed_val)),  \n",
    "    ('classifier', MLPClassifier(\n",
    "        random_state=seed_val,\n",
    "        learning_rate='constant',\n",
    "        max_iter=4000))\n",
    "])\n",
    "\n",
    "mlp_p_cv = GridSearchCV(\n",
    "    estimator=mlp_p,\n",
    "    param_grid=param_grid, \n",
    "    scoring='neg_log_loss', \n",
    "    cv=4,\n",
    "    verbose=False\n",
    ").fit(X_train, y_train)\n",
    "\n",
    "print(mlp_p_cv.best_score_)\n",
    "print(mlp_p_cv.best_params_)"
   ]
  },
  {
   "cell_type": "code",
   "execution_count": 126,
   "metadata": {},
   "outputs": [
    {
     "data": {
      "text/html": [
       "<style>#sk-container-id-28 {color: black;background-color: white;}#sk-container-id-28 pre{padding: 0;}#sk-container-id-28 div.sk-toggleable {background-color: white;}#sk-container-id-28 label.sk-toggleable__label {cursor: pointer;display: block;width: 100%;margin-bottom: 0;padding: 0.3em;box-sizing: border-box;text-align: center;}#sk-container-id-28 label.sk-toggleable__label-arrow:before {content: \"▸\";float: left;margin-right: 0.25em;color: #696969;}#sk-container-id-28 label.sk-toggleable__label-arrow:hover:before {color: black;}#sk-container-id-28 div.sk-estimator:hover label.sk-toggleable__label-arrow:before {color: black;}#sk-container-id-28 div.sk-toggleable__content {max-height: 0;max-width: 0;overflow: hidden;text-align: left;background-color: #f0f8ff;}#sk-container-id-28 div.sk-toggleable__content pre {margin: 0.2em;color: black;border-radius: 0.25em;background-color: #f0f8ff;}#sk-container-id-28 input.sk-toggleable__control:checked~div.sk-toggleable__content {max-height: 200px;max-width: 100%;overflow: auto;}#sk-container-id-28 input.sk-toggleable__control:checked~label.sk-toggleable__label-arrow:before {content: \"▾\";}#sk-container-id-28 div.sk-estimator input.sk-toggleable__control:checked~label.sk-toggleable__label {background-color: #d4ebff;}#sk-container-id-28 div.sk-label input.sk-toggleable__control:checked~label.sk-toggleable__label {background-color: #d4ebff;}#sk-container-id-28 input.sk-hidden--visually {border: 0;clip: rect(1px 1px 1px 1px);clip: rect(1px, 1px, 1px, 1px);height: 1px;margin: -1px;overflow: hidden;padding: 0;position: absolute;width: 1px;}#sk-container-id-28 div.sk-estimator {font-family: monospace;background-color: #f0f8ff;border: 1px dotted black;border-radius: 0.25em;box-sizing: border-box;margin-bottom: 0.5em;}#sk-container-id-28 div.sk-estimator:hover {background-color: #d4ebff;}#sk-container-id-28 div.sk-parallel-item::after {content: \"\";width: 100%;border-bottom: 1px solid gray;flex-grow: 1;}#sk-container-id-28 div.sk-label:hover label.sk-toggleable__label {background-color: #d4ebff;}#sk-container-id-28 div.sk-serial::before {content: \"\";position: absolute;border-left: 1px solid gray;box-sizing: border-box;top: 0;bottom: 0;left: 50%;z-index: 0;}#sk-container-id-28 div.sk-serial {display: flex;flex-direction: column;align-items: center;background-color: white;padding-right: 0.2em;padding-left: 0.2em;position: relative;}#sk-container-id-28 div.sk-item {position: relative;z-index: 1;}#sk-container-id-28 div.sk-parallel {display: flex;align-items: stretch;justify-content: center;background-color: white;position: relative;}#sk-container-id-28 div.sk-item::before, #sk-container-id-28 div.sk-parallel-item::before {content: \"\";position: absolute;border-left: 1px solid gray;box-sizing: border-box;top: 0;bottom: 0;left: 50%;z-index: -1;}#sk-container-id-28 div.sk-parallel-item {display: flex;flex-direction: column;z-index: 1;position: relative;background-color: white;}#sk-container-id-28 div.sk-parallel-item:first-child::after {align-self: flex-end;width: 50%;}#sk-container-id-28 div.sk-parallel-item:last-child::after {align-self: flex-start;width: 50%;}#sk-container-id-28 div.sk-parallel-item:only-child::after {width: 0;}#sk-container-id-28 div.sk-dashed-wrapped {border: 1px dashed gray;margin: 0 0.4em 0.5em 0.4em;box-sizing: border-box;padding-bottom: 0.4em;background-color: white;}#sk-container-id-28 div.sk-label label {font-family: monospace;font-weight: bold;display: inline-block;line-height: 1.2em;}#sk-container-id-28 div.sk-label-container {text-align: center;}#sk-container-id-28 div.sk-container {/* jupyter's `normalize.less` sets `[hidden] { display: none; }` but bootstrap.min.css set `[hidden] { display: none !important; }` so we also need the `!important` here to be able to override the default hidden behavior on the sphinx rendered scikit-learn.org. See: https://github.com/scikit-learn/scikit-learn/issues/21755 */display: inline-block !important;position: relative;}#sk-container-id-28 div.sk-text-repr-fallback {display: none;}</style><div id=\"sk-container-id-28\" class=\"sk-top-container\"><div class=\"sk-text-repr-fallback\"><pre>Pipeline(steps=[(&#x27;scaler&#x27;, RobustScaler()),\n",
       "                (&#x27;selector&#x27;, VarianceThreshold(threshold=0.001)),\n",
       "                (&#x27;smote&#x27;, SMOTE(random_state=922)),\n",
       "                (&#x27;classifier&#x27;,\n",
       "                 MLPClassifier(alpha=8e-05, hidden_layer_sizes=8, max_iter=4000,\n",
       "                               random_state=922, solver=&#x27;sgd&#x27;))])</pre><b>In a Jupyter environment, please rerun this cell to show the HTML representation or trust the notebook. <br />On GitHub, the HTML representation is unable to render, please try loading this page with nbviewer.org.</b></div><div class=\"sk-container\" hidden><div class=\"sk-item sk-dashed-wrapped\"><div class=\"sk-label-container\"><div class=\"sk-label sk-toggleable\"><input class=\"sk-toggleable__control sk-hidden--visually\" id=\"sk-estimator-id-151\" type=\"checkbox\" ><label for=\"sk-estimator-id-151\" class=\"sk-toggleable__label sk-toggleable__label-arrow\">Pipeline</label><div class=\"sk-toggleable__content\"><pre>Pipeline(steps=[(&#x27;scaler&#x27;, RobustScaler()),\n",
       "                (&#x27;selector&#x27;, VarianceThreshold(threshold=0.001)),\n",
       "                (&#x27;smote&#x27;, SMOTE(random_state=922)),\n",
       "                (&#x27;classifier&#x27;,\n",
       "                 MLPClassifier(alpha=8e-05, hidden_layer_sizes=8, max_iter=4000,\n",
       "                               random_state=922, solver=&#x27;sgd&#x27;))])</pre></div></div></div><div class=\"sk-serial\"><div class=\"sk-item\"><div class=\"sk-estimator sk-toggleable\"><input class=\"sk-toggleable__control sk-hidden--visually\" id=\"sk-estimator-id-152\" type=\"checkbox\" ><label for=\"sk-estimator-id-152\" class=\"sk-toggleable__label sk-toggleable__label-arrow\">RobustScaler</label><div class=\"sk-toggleable__content\"><pre>RobustScaler()</pre></div></div></div><div class=\"sk-item\"><div class=\"sk-estimator sk-toggleable\"><input class=\"sk-toggleable__control sk-hidden--visually\" id=\"sk-estimator-id-153\" type=\"checkbox\" ><label for=\"sk-estimator-id-153\" class=\"sk-toggleable__label sk-toggleable__label-arrow\">VarianceThreshold</label><div class=\"sk-toggleable__content\"><pre>VarianceThreshold(threshold=0.001)</pre></div></div></div><div class=\"sk-item\"><div class=\"sk-estimator sk-toggleable\"><input class=\"sk-toggleable__control sk-hidden--visually\" id=\"sk-estimator-id-154\" type=\"checkbox\" ><label for=\"sk-estimator-id-154\" class=\"sk-toggleable__label sk-toggleable__label-arrow\">SMOTE</label><div class=\"sk-toggleable__content\"><pre>SMOTE(random_state=922)</pre></div></div></div><div class=\"sk-item\"><div class=\"sk-estimator sk-toggleable\"><input class=\"sk-toggleable__control sk-hidden--visually\" id=\"sk-estimator-id-155\" type=\"checkbox\" ><label for=\"sk-estimator-id-155\" class=\"sk-toggleable__label sk-toggleable__label-arrow\">MLPClassifier</label><div class=\"sk-toggleable__content\"><pre>MLPClassifier(alpha=8e-05, hidden_layer_sizes=8, max_iter=4000,\n",
       "              random_state=922, solver=&#x27;sgd&#x27;)</pre></div></div></div></div></div></div></div>"
      ],
      "text/plain": [
       "Pipeline(steps=[('scaler', RobustScaler()),\n",
       "                ('selector', VarianceThreshold(threshold=0.001)),\n",
       "                ('smote', SMOTE(random_state=922)),\n",
       "                ('classifier',\n",
       "                 MLPClassifier(alpha=8e-05, hidden_layer_sizes=8, max_iter=4000,\n",
       "                               random_state=922, solver='sgd'))])"
      ]
     },
     "execution_count": 126,
     "metadata": {},
     "output_type": "execute_result"
    }
   ],
   "source": [
    "mlp_p = Pipeline([\n",
    "    ('scaler', RobustScaler()),\n",
    "    ('selector', VarianceThreshold(threshold=0.001)),\n",
    "    ('smote', SMOTE(random_state=seed_val)),  \n",
    "    ('classifier', MLPClassifier(\n",
    "        random_state=seed_val,\n",
    "        learning_rate='constant',\n",
    "        max_iter=4000,\n",
    "        alpha=8e-05,\n",
    "        hidden_layer_sizes=8,\n",
    "        solver='sgd'\n",
    "        ))\n",
    "])\n",
    "# {'alpha': 0.00038, 'hidden_layer_sizes': 32, 'learning_rate': 'constant', 'max_iter': 4000, 'solver': 'adam'}\n",
    "mlp_p.fit(X_train, y_train)"
   ]
  },
  {
   "cell_type": "code",
   "execution_count": 127,
   "metadata": {},
   "outputs": [
    {
     "name": "stdout",
     "output_type": "stream",
     "text": [
      "Accuracy: 0.40010917030567683\n",
      "ROC AUC: 0.7689052492828844\n",
      "Logloss: 1.9805467485050607\n",
      "              precision    recall  f1-score   support\n",
      "\n",
      "           0       0.71      0.41      0.52       670\n",
      "           1       0.43      0.25      0.32       327\n",
      "           2       0.04      0.24      0.07        34\n",
      "           3       0.81      0.43      0.56       542\n",
      "           4       0.00      0.00      0.00         8\n",
      "           5       0.18      0.61      0.28        54\n",
      "           6       0.04      0.19      0.07        16\n",
      "           7       0.51      0.76      0.61        97\n",
      "           8       0.11      0.37      0.17        19\n",
      "           9       0.00      0.00      0.00         5\n",
      "          10       0.02      0.08      0.03        13\n",
      "          11       0.00      0.00      0.00         5\n",
      "          12       0.08      0.33      0.13        42\n",
      "\n",
      "    accuracy                           0.40      1832\n",
      "   macro avg       0.23      0.28      0.21      1832\n",
      "weighted avg       0.61      0.40      0.46      1832\n",
      "\n"
     ]
    }
   ],
   "source": [
    "(\n",
    "    mlp_p_y_prob, mlp_p_y_pred, mlp_p_acc, mlp_p_auc, mlp_p_ll\n",
    ") = eval_and_print_metrics( mlp_p, X_train, y_train, X_test, y_test )"
   ]
  },
  {
   "cell_type": "markdown",
   "metadata": {},
   "source": [
    "Accuracy: 0.537117903930131\n",
    "ROC AUC: 0.7818578193718655\n",
    "Logloss: 1.9727422551131373"
   ]
  },
  {
   "cell_type": "code",
   "execution_count": 128,
   "metadata": {},
   "outputs": [],
   "source": [
    "filename='../../saved_models/mlp_p.sav'\n",
    "pickle.dump(mlp_p, open(filename, 'wb'))"
   ]
  },
  {
   "cell_type": "markdown",
   "metadata": {},
   "source": [
    "### Putting it all together (Voting Classifier)"
   ]
  },
  {
   "cell_type": "code",
   "execution_count": 129,
   "metadata": {},
   "outputs": [
    {
     "data": {
      "text/html": [
       "<style>#sk-container-id-29 {color: black;background-color: white;}#sk-container-id-29 pre{padding: 0;}#sk-container-id-29 div.sk-toggleable {background-color: white;}#sk-container-id-29 label.sk-toggleable__label {cursor: pointer;display: block;width: 100%;margin-bottom: 0;padding: 0.3em;box-sizing: border-box;text-align: center;}#sk-container-id-29 label.sk-toggleable__label-arrow:before {content: \"▸\";float: left;margin-right: 0.25em;color: #696969;}#sk-container-id-29 label.sk-toggleable__label-arrow:hover:before {color: black;}#sk-container-id-29 div.sk-estimator:hover label.sk-toggleable__label-arrow:before {color: black;}#sk-container-id-29 div.sk-toggleable__content {max-height: 0;max-width: 0;overflow: hidden;text-align: left;background-color: #f0f8ff;}#sk-container-id-29 div.sk-toggleable__content pre {margin: 0.2em;color: black;border-radius: 0.25em;background-color: #f0f8ff;}#sk-container-id-29 input.sk-toggleable__control:checked~div.sk-toggleable__content {max-height: 200px;max-width: 100%;overflow: auto;}#sk-container-id-29 input.sk-toggleable__control:checked~label.sk-toggleable__label-arrow:before {content: \"▾\";}#sk-container-id-29 div.sk-estimator input.sk-toggleable__control:checked~label.sk-toggleable__label {background-color: #d4ebff;}#sk-container-id-29 div.sk-label input.sk-toggleable__control:checked~label.sk-toggleable__label {background-color: #d4ebff;}#sk-container-id-29 input.sk-hidden--visually {border: 0;clip: rect(1px 1px 1px 1px);clip: rect(1px, 1px, 1px, 1px);height: 1px;margin: -1px;overflow: hidden;padding: 0;position: absolute;width: 1px;}#sk-container-id-29 div.sk-estimator {font-family: monospace;background-color: #f0f8ff;border: 1px dotted black;border-radius: 0.25em;box-sizing: border-box;margin-bottom: 0.5em;}#sk-container-id-29 div.sk-estimator:hover {background-color: #d4ebff;}#sk-container-id-29 div.sk-parallel-item::after {content: \"\";width: 100%;border-bottom: 1px solid gray;flex-grow: 1;}#sk-container-id-29 div.sk-label:hover label.sk-toggleable__label {background-color: #d4ebff;}#sk-container-id-29 div.sk-serial::before {content: \"\";position: absolute;border-left: 1px solid gray;box-sizing: border-box;top: 0;bottom: 0;left: 50%;z-index: 0;}#sk-container-id-29 div.sk-serial {display: flex;flex-direction: column;align-items: center;background-color: white;padding-right: 0.2em;padding-left: 0.2em;position: relative;}#sk-container-id-29 div.sk-item {position: relative;z-index: 1;}#sk-container-id-29 div.sk-parallel {display: flex;align-items: stretch;justify-content: center;background-color: white;position: relative;}#sk-container-id-29 div.sk-item::before, #sk-container-id-29 div.sk-parallel-item::before {content: \"\";position: absolute;border-left: 1px solid gray;box-sizing: border-box;top: 0;bottom: 0;left: 50%;z-index: -1;}#sk-container-id-29 div.sk-parallel-item {display: flex;flex-direction: column;z-index: 1;position: relative;background-color: white;}#sk-container-id-29 div.sk-parallel-item:first-child::after {align-self: flex-end;width: 50%;}#sk-container-id-29 div.sk-parallel-item:last-child::after {align-self: flex-start;width: 50%;}#sk-container-id-29 div.sk-parallel-item:only-child::after {width: 0;}#sk-container-id-29 div.sk-dashed-wrapped {border: 1px dashed gray;margin: 0 0.4em 0.5em 0.4em;box-sizing: border-box;padding-bottom: 0.4em;background-color: white;}#sk-container-id-29 div.sk-label label {font-family: monospace;font-weight: bold;display: inline-block;line-height: 1.2em;}#sk-container-id-29 div.sk-label-container {text-align: center;}#sk-container-id-29 div.sk-container {/* jupyter's `normalize.less` sets `[hidden] { display: none; }` but bootstrap.min.css set `[hidden] { display: none !important; }` so we also need the `!important` here to be able to override the default hidden behavior on the sphinx rendered scikit-learn.org. See: https://github.com/scikit-learn/scikit-learn/issues/21755 */display: inline-block !important;position: relative;}#sk-container-id-29 div.sk-text-repr-fallback {display: none;}</style><div id=\"sk-container-id-29\" class=\"sk-top-container\"><div class=\"sk-text-repr-fallback\"><pre>Pipeline(steps=[(&#x27;scaler&#x27;, RobustScaler()),\n",
       "                (&#x27;selector&#x27;, VarianceThreshold(threshold=0.001)),\n",
       "                (&#x27;smote&#x27;, SMOTE(random_state=922)),\n",
       "                (&#x27;classifier&#x27;,\n",
       "                 VotingClassifier(estimators=[(&#x27;rf&#x27;,\n",
       "                                               RandomForestClassifier(max_depth=40,\n",
       "                                                                      n_estimators=500,\n",
       "                                                                      random_state=922)),\n",
       "                                              (&#x27;xgb&#x27;,\n",
       "                                               XGBClassifier(base_score=None,\n",
       "                                                             booster=None,\n",
       "                                                             callbacks=None,\n",
       "                                                             colsample_bylevel=None,\n",
       "                                                             colsample_bynode=...\n",
       "                                                             max_delta_step=None,\n",
       "                                                             max_depth=10,\n",
       "                                                             max_leaves=None,\n",
       "                                                             min_child_weight=None,\n",
       "                                                             missing=nan,\n",
       "                                                             monotone_constraints=None,\n",
       "                                                             n_estimators=100,\n",
       "                                                             n_jobs=None,\n",
       "                                                             num_parallel_tree=None,\n",
       "                                                             predictor=None,\n",
       "                                                             random_state=922, ...)),\n",
       "                                              (&#x27;svm&#x27;,\n",
       "                                               SVC(probability=True,\n",
       "                                                   random_state=922)),\n",
       "                                              (&#x27;mlp&#x27;,\n",
       "                                               MLPClassifier(alpha=8e-05,\n",
       "                                                             hidden_layer_sizes=8,\n",
       "                                                             max_iter=4000,\n",
       "                                                             random_state=922,\n",
       "                                                             solver=&#x27;sgd&#x27;))],\n",
       "                                  voting=&#x27;soft&#x27;))])</pre><b>In a Jupyter environment, please rerun this cell to show the HTML representation or trust the notebook. <br />On GitHub, the HTML representation is unable to render, please try loading this page with nbviewer.org.</b></div><div class=\"sk-container\" hidden><div class=\"sk-item sk-dashed-wrapped\"><div class=\"sk-label-container\"><div class=\"sk-label sk-toggleable\"><input class=\"sk-toggleable__control sk-hidden--visually\" id=\"sk-estimator-id-156\" type=\"checkbox\" ><label for=\"sk-estimator-id-156\" class=\"sk-toggleable__label sk-toggleable__label-arrow\">Pipeline</label><div class=\"sk-toggleable__content\"><pre>Pipeline(steps=[(&#x27;scaler&#x27;, RobustScaler()),\n",
       "                (&#x27;selector&#x27;, VarianceThreshold(threshold=0.001)),\n",
       "                (&#x27;smote&#x27;, SMOTE(random_state=922)),\n",
       "                (&#x27;classifier&#x27;,\n",
       "                 VotingClassifier(estimators=[(&#x27;rf&#x27;,\n",
       "                                               RandomForestClassifier(max_depth=40,\n",
       "                                                                      n_estimators=500,\n",
       "                                                                      random_state=922)),\n",
       "                                              (&#x27;xgb&#x27;,\n",
       "                                               XGBClassifier(base_score=None,\n",
       "                                                             booster=None,\n",
       "                                                             callbacks=None,\n",
       "                                                             colsample_bylevel=None,\n",
       "                                                             colsample_bynode=...\n",
       "                                                             max_delta_step=None,\n",
       "                                                             max_depth=10,\n",
       "                                                             max_leaves=None,\n",
       "                                                             min_child_weight=None,\n",
       "                                                             missing=nan,\n",
       "                                                             monotone_constraints=None,\n",
       "                                                             n_estimators=100,\n",
       "                                                             n_jobs=None,\n",
       "                                                             num_parallel_tree=None,\n",
       "                                                             predictor=None,\n",
       "                                                             random_state=922, ...)),\n",
       "                                              (&#x27;svm&#x27;,\n",
       "                                               SVC(probability=True,\n",
       "                                                   random_state=922)),\n",
       "                                              (&#x27;mlp&#x27;,\n",
       "                                               MLPClassifier(alpha=8e-05,\n",
       "                                                             hidden_layer_sizes=8,\n",
       "                                                             max_iter=4000,\n",
       "                                                             random_state=922,\n",
       "                                                             solver=&#x27;sgd&#x27;))],\n",
       "                                  voting=&#x27;soft&#x27;))])</pre></div></div></div><div class=\"sk-serial\"><div class=\"sk-item\"><div class=\"sk-estimator sk-toggleable\"><input class=\"sk-toggleable__control sk-hidden--visually\" id=\"sk-estimator-id-157\" type=\"checkbox\" ><label for=\"sk-estimator-id-157\" class=\"sk-toggleable__label sk-toggleable__label-arrow\">RobustScaler</label><div class=\"sk-toggleable__content\"><pre>RobustScaler()</pre></div></div></div><div class=\"sk-item\"><div class=\"sk-estimator sk-toggleable\"><input class=\"sk-toggleable__control sk-hidden--visually\" id=\"sk-estimator-id-158\" type=\"checkbox\" ><label for=\"sk-estimator-id-158\" class=\"sk-toggleable__label sk-toggleable__label-arrow\">VarianceThreshold</label><div class=\"sk-toggleable__content\"><pre>VarianceThreshold(threshold=0.001)</pre></div></div></div><div class=\"sk-item\"><div class=\"sk-estimator sk-toggleable\"><input class=\"sk-toggleable__control sk-hidden--visually\" id=\"sk-estimator-id-159\" type=\"checkbox\" ><label for=\"sk-estimator-id-159\" class=\"sk-toggleable__label sk-toggleable__label-arrow\">SMOTE</label><div class=\"sk-toggleable__content\"><pre>SMOTE(random_state=922)</pre></div></div></div><div class=\"sk-item sk-dashed-wrapped\"><div class=\"sk-label-container\"><div class=\"sk-label sk-toggleable\"><input class=\"sk-toggleable__control sk-hidden--visually\" id=\"sk-estimator-id-160\" type=\"checkbox\" ><label for=\"sk-estimator-id-160\" class=\"sk-toggleable__label sk-toggleable__label-arrow\">classifier: VotingClassifier</label><div class=\"sk-toggleable__content\"><pre>VotingClassifier(estimators=[(&#x27;rf&#x27;,\n",
       "                              RandomForestClassifier(max_depth=40,\n",
       "                                                     n_estimators=500,\n",
       "                                                     random_state=922)),\n",
       "                             (&#x27;xgb&#x27;,\n",
       "                              XGBClassifier(base_score=None, booster=None,\n",
       "                                            callbacks=None,\n",
       "                                            colsample_bylevel=None,\n",
       "                                            colsample_bynode=None,\n",
       "                                            colsample_bytree=None,\n",
       "                                            early_stopping_rounds=None,\n",
       "                                            enable_categorical=False,\n",
       "                                            eval_metric=None,\n",
       "                                            feature_types=None, gamma=None,\n",
       "                                            gpu_id=None,...\n",
       "                                            max_delta_step=None, max_depth=10,\n",
       "                                            max_leaves=None,\n",
       "                                            min_child_weight=None, missing=nan,\n",
       "                                            monotone_constraints=None,\n",
       "                                            n_estimators=100, n_jobs=None,\n",
       "                                            num_parallel_tree=None,\n",
       "                                            predictor=None, random_state=922, ...)),\n",
       "                             (&#x27;svm&#x27;, SVC(probability=True, random_state=922)),\n",
       "                             (&#x27;mlp&#x27;,\n",
       "                              MLPClassifier(alpha=8e-05, hidden_layer_sizes=8,\n",
       "                                            max_iter=4000, random_state=922,\n",
       "                                            solver=&#x27;sgd&#x27;))],\n",
       "                 voting=&#x27;soft&#x27;)</pre></div></div></div><div class=\"sk-parallel\"><div class=\"sk-parallel-item\"><div class=\"sk-item\"><div class=\"sk-label-container\"><div class=\"sk-label sk-toggleable\"><label>rf</label></div></div><div class=\"sk-serial\"><div class=\"sk-item\"><div class=\"sk-estimator sk-toggleable\"><input class=\"sk-toggleable__control sk-hidden--visually\" id=\"sk-estimator-id-161\" type=\"checkbox\" ><label for=\"sk-estimator-id-161\" class=\"sk-toggleable__label sk-toggleable__label-arrow\">RandomForestClassifier</label><div class=\"sk-toggleable__content\"><pre>RandomForestClassifier(max_depth=40, n_estimators=500, random_state=922)</pre></div></div></div></div></div></div><div class=\"sk-parallel-item\"><div class=\"sk-item\"><div class=\"sk-label-container\"><div class=\"sk-label sk-toggleable\"><label>xgb</label></div></div><div class=\"sk-serial\"><div class=\"sk-item\"><div class=\"sk-estimator sk-toggleable\"><input class=\"sk-toggleable__control sk-hidden--visually\" id=\"sk-estimator-id-162\" type=\"checkbox\" ><label for=\"sk-estimator-id-162\" class=\"sk-toggleable__label sk-toggleable__label-arrow\">XGBClassifier</label><div class=\"sk-toggleable__content\"><pre>XGBClassifier(base_score=None, booster=None, callbacks=None,\n",
       "              colsample_bylevel=None, colsample_bynode=None,\n",
       "              colsample_bytree=None, early_stopping_rounds=None,\n",
       "              enable_categorical=False, eval_metric=None, feature_types=None,\n",
       "              gamma=None, gpu_id=None, grow_policy=None, importance_type=None,\n",
       "              interaction_constraints=None, learning_rate=0.09, max_bin=None,\n",
       "              max_cat_threshold=None, max_cat_to_onehot=None,\n",
       "              max_delta_step=None, max_depth=10, max_leaves=None,\n",
       "              min_child_weight=None, missing=nan, monotone_constraints=None,\n",
       "              n_estimators=100, n_jobs=None, num_parallel_tree=None,\n",
       "              predictor=None, random_state=922, ...)</pre></div></div></div></div></div></div><div class=\"sk-parallel-item\"><div class=\"sk-item\"><div class=\"sk-label-container\"><div class=\"sk-label sk-toggleable\"><label>svm</label></div></div><div class=\"sk-serial\"><div class=\"sk-item\"><div class=\"sk-estimator sk-toggleable\"><input class=\"sk-toggleable__control sk-hidden--visually\" id=\"sk-estimator-id-163\" type=\"checkbox\" ><label for=\"sk-estimator-id-163\" class=\"sk-toggleable__label sk-toggleable__label-arrow\">SVC</label><div class=\"sk-toggleable__content\"><pre>SVC(probability=True, random_state=922)</pre></div></div></div></div></div></div><div class=\"sk-parallel-item\"><div class=\"sk-item\"><div class=\"sk-label-container\"><div class=\"sk-label sk-toggleable\"><label>mlp</label></div></div><div class=\"sk-serial\"><div class=\"sk-item\"><div class=\"sk-estimator sk-toggleable\"><input class=\"sk-toggleable__control sk-hidden--visually\" id=\"sk-estimator-id-164\" type=\"checkbox\" ><label for=\"sk-estimator-id-164\" class=\"sk-toggleable__label sk-toggleable__label-arrow\">MLPClassifier</label><div class=\"sk-toggleable__content\"><pre>MLPClassifier(alpha=8e-05, hidden_layer_sizes=8, max_iter=4000,\n",
       "              random_state=922, solver=&#x27;sgd&#x27;)</pre></div></div></div></div></div></div></div></div></div></div></div></div>"
      ],
      "text/plain": [
       "Pipeline(steps=[('scaler', RobustScaler()),\n",
       "                ('selector', VarianceThreshold(threshold=0.001)),\n",
       "                ('smote', SMOTE(random_state=922)),\n",
       "                ('classifier',\n",
       "                 VotingClassifier(estimators=[('rf',\n",
       "                                               RandomForestClassifier(max_depth=40,\n",
       "                                                                      n_estimators=500,\n",
       "                                                                      random_state=922)),\n",
       "                                              ('xgb',\n",
       "                                               XGBClassifier(base_score=None,\n",
       "                                                             booster=None,\n",
       "                                                             callbacks=None,\n",
       "                                                             colsample_bylevel=None,\n",
       "                                                             colsample_bynode=...\n",
       "                                                             max_delta_step=None,\n",
       "                                                             max_depth=10,\n",
       "                                                             max_leaves=None,\n",
       "                                                             min_child_weight=None,\n",
       "                                                             missing=nan,\n",
       "                                                             monotone_constraints=None,\n",
       "                                                             n_estimators=100,\n",
       "                                                             n_jobs=None,\n",
       "                                                             num_parallel_tree=None,\n",
       "                                                             predictor=None,\n",
       "                                                             random_state=922, ...)),\n",
       "                                              ('svm',\n",
       "                                               SVC(probability=True,\n",
       "                                                   random_state=922)),\n",
       "                                              ('mlp',\n",
       "                                               MLPClassifier(alpha=8e-05,\n",
       "                                                             hidden_layer_sizes=8,\n",
       "                                                             max_iter=4000,\n",
       "                                                             random_state=922,\n",
       "                                                             solver='sgd'))],\n",
       "                                  voting='soft'))])"
      ]
     },
     "execution_count": 129,
     "metadata": {},
     "output_type": "execute_result"
    }
   ],
   "source": [
    "estimators = [\n",
    "    ('rf', RandomForestClassifier(\n",
    "            random_state=seed_val,\n",
    "            max_depth=40,\n",
    "            n_estimators=500\n",
    "        )),\n",
    "    ('xgb', XGBClassifier(\n",
    "            random_state=seed_val,\n",
    "            learning_rate=0.09, \n",
    "            max_depth=10, \n",
    "            n_estimators=100\n",
    "    )),\n",
    "    ('svm', svm.SVC(\n",
    "            random_state=seed_val,\n",
    "            decision_function_shape='ovr',\n",
    "            kernel='rbf',\n",
    "            probability=True\n",
    "        )),\n",
    "    ('mlp', MLPClassifier(\n",
    "            random_state=seed_val,\n",
    "            learning_rate='constant', \n",
    "            max_iter= 4000, \n",
    "            alpha=8e-05,\n",
    "            hidden_layer_sizes=8,\n",
    "            solver='sgd'\n",
    "        ))\n",
    "]\n",
    "\n",
    "vc_p = Pipeline([\n",
    "    ('scaler', RobustScaler()),\n",
    "    ('selector', VarianceThreshold(threshold=0.001)),\n",
    "    ('smote', SMOTE(random_state=seed_val)),  \n",
    "    ('classifier', VotingClassifier(estimators=estimators, voting='soft'))\n",
    "])\n",
    "vc_p.fit(X_train, y_train)"
   ]
  },
  {
   "cell_type": "code",
   "execution_count": 130,
   "metadata": {},
   "outputs": [
    {
     "name": "stdout",
     "output_type": "stream",
     "text": [
      "Accuracy: 0.62117903930131\n",
      "ROC AUC: 0.8480485040921213\n",
      "Logloss: 1.0730791037090281\n",
      "              precision    recall  f1-score   support\n",
      "\n",
      "           0       0.72      0.72      0.72       670\n",
      "           1       0.48      0.36      0.41       327\n",
      "           2       0.04      0.06      0.05        34\n",
      "           3       0.85      0.73      0.79       542\n",
      "           4       0.00      0.00      0.00         8\n",
      "           5       0.24      0.59      0.34        54\n",
      "           6       0.12      0.19      0.15        16\n",
      "           7       0.61      0.88      0.72        97\n",
      "           8       0.21      0.32      0.25        19\n",
      "           9       0.00      0.00      0.00         5\n",
      "          10       0.00      0.00      0.00        13\n",
      "          11       0.00      0.00      0.00         5\n",
      "          12       0.27      0.29      0.28        42\n",
      "\n",
      "    accuracy                           0.62      1832\n",
      "   macro avg       0.27      0.32      0.28      1832\n",
      "weighted avg       0.65      0.62      0.63      1832\n",
      "\n"
     ]
    }
   ],
   "source": [
    "(\n",
    "    vc_p_y_prob, vc_p_y_pred, vc_p_acc, vc_p_auc, vc_p_ll\n",
    ") = eval_and_print_metrics( vc_p, X_train, y_train, X_test, y_test )"
   ]
  },
  {
   "cell_type": "code",
   "execution_count": 131,
   "metadata": {},
   "outputs": [],
   "source": [
    "filename = '../../saved_models/vc_p.sav'\n",
    "pickle.dump(vc_p, open(filename, 'wb'))"
   ]
  },
  {
   "attachments": {},
   "cell_type": "markdown",
   "metadata": {},
   "source": [
    "## Conclusions and Next Steps\n",
    "\n",
    "Above we created, tuned, and evaluated models utilizing Random Forest (RF), Scalar Vector Machine (SVM), XGradient boost (XGB), and Multi-layer Perceptrons (MLP) algorithms. The XGB and RF models performed the best solo. But we opted to then combine the predictive power of all 4 models using a voting classifier.\n",
    "\n",
    "Looking at the classification report for each model, we see that some classes are easier to classify than others. \n"
   ]
  },
  {
   "cell_type": "code",
   "execution_count": 18,
   "metadata": {},
   "outputs": [
    {
     "data": {
      "text/html": [
       "<div>\n",
       "<style scoped>\n",
       "    .dataframe tbody tr th:only-of-type {\n",
       "        vertical-align: middle;\n",
       "    }\n",
       "\n",
       "    .dataframe tbody tr th {\n",
       "        vertical-align: top;\n",
       "    }\n",
       "\n",
       "    .dataframe thead th {\n",
       "        text-align: right;\n",
       "    }\n",
       "</style>\n",
       "<table border=\"1\" class=\"dataframe\">\n",
       "  <thead>\n",
       "    <tr style=\"text-align: right;\">\n",
       "      <th></th>\n",
       "      <th>crop_name</th>\n",
       "    </tr>\n",
       "    <tr>\n",
       "      <th>label</th>\n",
       "      <th></th>\n",
       "    </tr>\n",
       "  </thead>\n",
       "  <tbody>\n",
       "    <tr>\n",
       "      <th>0</th>\n",
       "      <td>Wheat</td>\n",
       "    </tr>\n",
       "    <tr>\n",
       "      <th>1</th>\n",
       "      <td>Mustard</td>\n",
       "    </tr>\n",
       "    <tr>\n",
       "      <th>2</th>\n",
       "      <td>Lentil</td>\n",
       "    </tr>\n",
       "    <tr>\n",
       "      <th>3</th>\n",
       "      <td>No crop/Fallow</td>\n",
       "    </tr>\n",
       "    <tr>\n",
       "      <th>4</th>\n",
       "      <td>Green pea</td>\n",
       "    </tr>\n",
       "    <tr>\n",
       "      <th>5</th>\n",
       "      <td>Sugarcane</td>\n",
       "    </tr>\n",
       "    <tr>\n",
       "      <th>6</th>\n",
       "      <td>Garlic</td>\n",
       "    </tr>\n",
       "    <tr>\n",
       "      <th>7</th>\n",
       "      <td>Maize</td>\n",
       "    </tr>\n",
       "    <tr>\n",
       "      <th>8</th>\n",
       "      <td>Gram</td>\n",
       "    </tr>\n",
       "    <tr>\n",
       "      <th>9</th>\n",
       "      <td>Coriander</td>\n",
       "    </tr>\n",
       "    <tr>\n",
       "      <th>10</th>\n",
       "      <td>Potato</td>\n",
       "    </tr>\n",
       "    <tr>\n",
       "      <th>11</th>\n",
       "      <td>Bersem</td>\n",
       "    </tr>\n",
       "    <tr>\n",
       "      <th>12</th>\n",
       "      <td>Rice</td>\n",
       "    </tr>\n",
       "  </tbody>\n",
       "</table>\n",
       "</div>"
      ],
      "text/plain": [
       "            crop_name\n",
       "label                \n",
       "0               Wheat\n",
       "1             Mustard\n",
       "2              Lentil\n",
       "3      No crop/Fallow\n",
       "4           Green pea\n",
       "5           Sugarcane\n",
       "6              Garlic\n",
       "7               Maize\n",
       "8                Gram\n",
       "9           Coriander\n",
       "10             Potato\n",
       "11             Bersem\n",
       "12               Rice"
      ]
     },
     "execution_count": 18,
     "metadata": {},
     "output_type": "execute_result"
    }
   ],
   "source": [
    "crop_names = [get_crop_name_from_id(crops, cid) for cid in le.classes_]\n",
    "le_resolution = pd.DataFrame(crop_names, columns=['crop_name'])\n",
    "le_resolution.index.name = 'label'\n",
    "le_resolution"
   ]
  },
  {
   "attachments": {},
   "cell_type": "markdown",
   "metadata": {},
   "source": [
    "Using the above resolution map alongside the classification reports, we find that some crops were easier to classify than others. Crops that were well represented in the dataset, wheat, mustard, maise, and no crop/fallow were classified with relatively good precision. Whereas crops that were relatively underrepresented in the dataset, lentils, greenpeas, garlic, coriander, potatoes, and berserm were classified with far lower precision. Even though we oversampled our minority classes, there were likely still too few instances of these classes to effectively create _useful_ synthetic data. \n",
    "\n",
    "In the next notebook we will refit our models, obtain predictions, and prepare the results for submission to the AgrifieldNet competition site."
   ]
  }
 ],
 "metadata": {
  "kernelspec": {
   "display_name": "Python 3.9.12 ('agrifieldnet_india-BoaCLkPv')",
   "language": "python",
   "name": "python3"
  },
  "language_info": {
   "codemirror_mode": {
    "name": "ipython",
    "version": 3
   },
   "file_extension": ".py",
   "mimetype": "text/x-python",
   "name": "python",
   "nbconvert_exporter": "python",
   "pygments_lexer": "ipython3",
   "version": "3.9.12"
  },
  "orig_nbformat": 4,
  "vscode": {
   "interpreter": {
    "hash": "7355c2727b54796c22120d6e464ece64811c7f3ffc4156bdaf6cc2c2e51a38b0"
   }
  }
 },
 "nbformat": 4,
 "nbformat_minor": 2
}
